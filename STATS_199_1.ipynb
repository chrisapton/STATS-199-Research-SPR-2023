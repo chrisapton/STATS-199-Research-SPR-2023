{
 "cells": [
  {
   "cell_type": "code",
   "execution_count": 145,
   "id": "e877ea32-3e66-41f1-b5f9-2b6fa7ee047d",
   "metadata": {},
   "outputs": [],
   "source": [
    "# Imports\n",
    "import numpy as np\n",
    "import pandas as pd\n",
    "import matplotlib.pyplot as plt\n",
    "import seaborn as sns\n",
    "import random\n",
    "import xgboost as xgb\n",
    "import wandb\n",
    "import pickle\n",
    "\n",
    "from sklearn.model_selection import train_test_split\n",
    "from statsmodels.tsa.arima.model import ARIMA\n",
    "from sklearn.model_selection import train_test_split\n",
    "from statsmodels.graphics.tsaplots import plot_pacf\n",
    "from pmdarima import auto_arima\n",
    "from statsmodels.tsa.statespace.sarimax import SARIMAX\n",
    "from sklearn.metrics import mean_squared_error\n",
    "from wandb.xgboost import wandb_callback"
   ]
  },
  {
   "cell_type": "code",
   "execution_count": 3,
   "id": "3bbdf391-1bac-4c9b-a8cc-e427a89eb700",
   "metadata": {},
   "outputs": [],
   "source": [
    "# Import all the datasets provided from Kaggle\n",
    "holiday_events_data = pd.read_csv(\"kaggle_data/holidays_events.csv\", parse_dates=[\"date\"])\n",
    "oil_data = pd.read_csv(\"kaggle_data/oil.csv\", parse_dates=[\"date\"])\n",
    "stores_data = pd.read_csv(\"kaggle_data/stores.csv\")\n",
    "transactions_data = pd.read_csv(\"kaggle_data/transactions.csv\")\n",
    "\n",
    "# For predictions/Machine Learning problem\n",
    "train_data = pd.read_csv(\"kaggle_data/train.csv\")\n",
    "test_data = pd.read_csv(\"kaggle_data/test.csv\")\n",
    "sample_submission_data = pd.read_csv(\"kaggle_data/sample_submission.csv\")"
   ]
  },
  {
   "cell_type": "code",
   "execution_count": 264,
   "id": "bf085268-a13b-4b0c-8ab1-032aecf8b142",
   "metadata": {},
   "outputs": [
    {
     "data": {
      "text/html": [
       "<div>\n",
       "<style scoped>\n",
       "    .dataframe tbody tr th:only-of-type {\n",
       "        vertical-align: middle;\n",
       "    }\n",
       "\n",
       "    .dataframe tbody tr th {\n",
       "        vertical-align: top;\n",
       "    }\n",
       "\n",
       "    .dataframe thead th {\n",
       "        text-align: right;\n",
       "    }\n",
       "</style>\n",
       "<table border=\"1\" class=\"dataframe\">\n",
       "  <thead>\n",
       "    <tr style=\"text-align: right;\">\n",
       "      <th></th>\n",
       "      <th>date</th>\n",
       "      <th>type</th>\n",
       "      <th>locale</th>\n",
       "      <th>locale_name</th>\n",
       "      <th>description</th>\n",
       "      <th>transferred</th>\n",
       "    </tr>\n",
       "  </thead>\n",
       "  <tbody>\n",
       "    <tr>\n",
       "      <th>0</th>\n",
       "      <td>2012-03-02</td>\n",
       "      <td>Holiday</td>\n",
       "      <td>Local</td>\n",
       "      <td>Manta</td>\n",
       "      <td>Fundacion de Manta</td>\n",
       "      <td>False</td>\n",
       "    </tr>\n",
       "    <tr>\n",
       "      <th>1</th>\n",
       "      <td>2012-04-01</td>\n",
       "      <td>Holiday</td>\n",
       "      <td>Regional</td>\n",
       "      <td>Cotopaxi</td>\n",
       "      <td>Provincializacion de Cotopaxi</td>\n",
       "      <td>False</td>\n",
       "    </tr>\n",
       "    <tr>\n",
       "      <th>2</th>\n",
       "      <td>2012-04-12</td>\n",
       "      <td>Holiday</td>\n",
       "      <td>Local</td>\n",
       "      <td>Cuenca</td>\n",
       "      <td>Fundacion de Cuenca</td>\n",
       "      <td>False</td>\n",
       "    </tr>\n",
       "    <tr>\n",
       "      <th>3</th>\n",
       "      <td>2012-04-14</td>\n",
       "      <td>Holiday</td>\n",
       "      <td>Local</td>\n",
       "      <td>Libertad</td>\n",
       "      <td>Cantonizacion de Libertad</td>\n",
       "      <td>False</td>\n",
       "    </tr>\n",
       "    <tr>\n",
       "      <th>4</th>\n",
       "      <td>2012-04-21</td>\n",
       "      <td>Holiday</td>\n",
       "      <td>Local</td>\n",
       "      <td>Riobamba</td>\n",
       "      <td>Cantonizacion de Riobamba</td>\n",
       "      <td>False</td>\n",
       "    </tr>\n",
       "  </tbody>\n",
       "</table>\n",
       "</div>"
      ],
      "text/plain": [
       "        date     type    locale locale_name                    description  \\\n",
       "0 2012-03-02  Holiday     Local       Manta             Fundacion de Manta   \n",
       "1 2012-04-01  Holiday  Regional    Cotopaxi  Provincializacion de Cotopaxi   \n",
       "2 2012-04-12  Holiday     Local      Cuenca            Fundacion de Cuenca   \n",
       "3 2012-04-14  Holiday     Local    Libertad      Cantonizacion de Libertad   \n",
       "4 2012-04-21  Holiday     Local    Riobamba      Cantonizacion de Riobamba   \n",
       "\n",
       "   transferred  \n",
       "0        False  \n",
       "1        False  \n",
       "2        False  \n",
       "3        False  \n",
       "4        False  "
      ]
     },
     "execution_count": 264,
     "metadata": {},
     "output_type": "execute_result"
    }
   ],
   "source": [
    "holiday_events_data.head()"
   ]
  },
  {
   "cell_type": "code",
   "execution_count": 5,
   "id": "27d83b94-30fd-4c94-93fb-9b43240af275",
   "metadata": {},
   "outputs": [
    {
     "data": {
      "text/html": [
       "<div>\n",
       "<style scoped>\n",
       "    .dataframe tbody tr th:only-of-type {\n",
       "        vertical-align: middle;\n",
       "    }\n",
       "\n",
       "    .dataframe tbody tr th {\n",
       "        vertical-align: top;\n",
       "    }\n",
       "\n",
       "    .dataframe thead th {\n",
       "        text-align: right;\n",
       "    }\n",
       "</style>\n",
       "<table border=\"1\" class=\"dataframe\">\n",
       "  <thead>\n",
       "    <tr style=\"text-align: right;\">\n",
       "      <th></th>\n",
       "      <th>date</th>\n",
       "      <th>dcoilwtico</th>\n",
       "    </tr>\n",
       "  </thead>\n",
       "  <tbody>\n",
       "    <tr>\n",
       "      <th>0</th>\n",
       "      <td>2013-01-01</td>\n",
       "      <td>NaN</td>\n",
       "    </tr>\n",
       "    <tr>\n",
       "      <th>1</th>\n",
       "      <td>2013-01-02</td>\n",
       "      <td>93.14</td>\n",
       "    </tr>\n",
       "    <tr>\n",
       "      <th>2</th>\n",
       "      <td>2013-01-03</td>\n",
       "      <td>92.97</td>\n",
       "    </tr>\n",
       "    <tr>\n",
       "      <th>3</th>\n",
       "      <td>2013-01-04</td>\n",
       "      <td>93.12</td>\n",
       "    </tr>\n",
       "    <tr>\n",
       "      <th>4</th>\n",
       "      <td>2013-01-07</td>\n",
       "      <td>93.20</td>\n",
       "    </tr>\n",
       "  </tbody>\n",
       "</table>\n",
       "</div>"
      ],
      "text/plain": [
       "        date  dcoilwtico\n",
       "0 2013-01-01         NaN\n",
       "1 2013-01-02       93.14\n",
       "2 2013-01-03       92.97\n",
       "3 2013-01-04       93.12\n",
       "4 2013-01-07       93.20"
      ]
     },
     "execution_count": 5,
     "metadata": {},
     "output_type": "execute_result"
    }
   ],
   "source": [
    "# dcoilwtico column is the Daily oil price. Includes values during both the train and test data timeframes\n",
    "oil_data.head()"
   ]
  },
  {
   "cell_type": "code",
   "execution_count": 6,
   "id": "e5dd7eb5-89f0-4e85-a7f2-b5b664125762",
   "metadata": {},
   "outputs": [
    {
     "data": {
      "text/html": [
       "<div>\n",
       "<style scoped>\n",
       "    .dataframe tbody tr th:only-of-type {\n",
       "        vertical-align: middle;\n",
       "    }\n",
       "\n",
       "    .dataframe tbody tr th {\n",
       "        vertical-align: top;\n",
       "    }\n",
       "\n",
       "    .dataframe thead th {\n",
       "        text-align: right;\n",
       "    }\n",
       "</style>\n",
       "<table border=\"1\" class=\"dataframe\">\n",
       "  <thead>\n",
       "    <tr style=\"text-align: right;\">\n",
       "      <th></th>\n",
       "      <th>store_nbr</th>\n",
       "      <th>city</th>\n",
       "      <th>state</th>\n",
       "      <th>type</th>\n",
       "      <th>cluster</th>\n",
       "    </tr>\n",
       "  </thead>\n",
       "  <tbody>\n",
       "    <tr>\n",
       "      <th>0</th>\n",
       "      <td>1</td>\n",
       "      <td>Quito</td>\n",
       "      <td>Pichincha</td>\n",
       "      <td>D</td>\n",
       "      <td>13</td>\n",
       "    </tr>\n",
       "    <tr>\n",
       "      <th>1</th>\n",
       "      <td>2</td>\n",
       "      <td>Quito</td>\n",
       "      <td>Pichincha</td>\n",
       "      <td>D</td>\n",
       "      <td>13</td>\n",
       "    </tr>\n",
       "    <tr>\n",
       "      <th>2</th>\n",
       "      <td>3</td>\n",
       "      <td>Quito</td>\n",
       "      <td>Pichincha</td>\n",
       "      <td>D</td>\n",
       "      <td>8</td>\n",
       "    </tr>\n",
       "    <tr>\n",
       "      <th>3</th>\n",
       "      <td>4</td>\n",
       "      <td>Quito</td>\n",
       "      <td>Pichincha</td>\n",
       "      <td>D</td>\n",
       "      <td>9</td>\n",
       "    </tr>\n",
       "    <tr>\n",
       "      <th>4</th>\n",
       "      <td>5</td>\n",
       "      <td>Santo Domingo</td>\n",
       "      <td>Santo Domingo de los Tsachilas</td>\n",
       "      <td>D</td>\n",
       "      <td>4</td>\n",
       "    </tr>\n",
       "  </tbody>\n",
       "</table>\n",
       "</div>"
      ],
      "text/plain": [
       "   store_nbr           city                           state type  cluster\n",
       "0          1          Quito                       Pichincha    D       13\n",
       "1          2          Quito                       Pichincha    D       13\n",
       "2          3          Quito                       Pichincha    D        8\n",
       "3          4          Quito                       Pichincha    D        9\n",
       "4          5  Santo Domingo  Santo Domingo de los Tsachilas    D        4"
      ]
     },
     "execution_count": 6,
     "metadata": {},
     "output_type": "execute_result"
    }
   ],
   "source": [
    "# Type is the grocery store chain potentially where A Megamaxi, B Gran Aki, C SuperMaxi, D Aki, E Super Aki\n",
    "# Cluster is a grouping of similar stores\n",
    "stores_data.head()"
   ]
  },
  {
   "cell_type": "code",
   "execution_count": 7,
   "id": "51a25bf9-db50-4ad8-bbac-3675307b3334",
   "metadata": {},
   "outputs": [
    {
     "data": {
      "text/plain": [
       "Quito            18\n",
       "Guayaquil         8\n",
       "Cuenca            3\n",
       "Santo Domingo     3\n",
       "Manta             2\n",
       "Latacunga         2\n",
       "Machala           2\n",
       "Ambato            2\n",
       "Quevedo           1\n",
       "Esmeraldas        1\n",
       "Loja              1\n",
       "Libertad          1\n",
       "Playas            1\n",
       "Daule             1\n",
       "Babahoyo          1\n",
       "Salinas           1\n",
       "Puyo              1\n",
       "Guaranda          1\n",
       "Ibarra            1\n",
       "Riobamba          1\n",
       "Cayambe           1\n",
       "El Carmen         1\n",
       "Name: city, dtype: int64"
      ]
     },
     "execution_count": 7,
     "metadata": {},
     "output_type": "execute_result"
    }
   ],
   "source": [
    "stores_data[\"city\"].value_counts()"
   ]
  },
  {
   "cell_type": "code",
   "execution_count": 8,
   "id": "e0addd5e-a6f3-4d3e-bb2f-bb98a21350c0",
   "metadata": {},
   "outputs": [
    {
     "data": {
      "text/plain": [
       "(54, 5)"
      ]
     },
     "execution_count": 8,
     "metadata": {},
     "output_type": "execute_result"
    }
   ],
   "source": [
    "stores_data.shape"
   ]
  },
  {
   "cell_type": "code",
   "execution_count": 9,
   "id": "be7aa471-6e35-4db8-8f9b-55926647c12b",
   "metadata": {},
   "outputs": [
    {
     "data": {
      "text/html": [
       "<div>\n",
       "<style scoped>\n",
       "    .dataframe tbody tr th:only-of-type {\n",
       "        vertical-align: middle;\n",
       "    }\n",
       "\n",
       "    .dataframe tbody tr th {\n",
       "        vertical-align: top;\n",
       "    }\n",
       "\n",
       "    .dataframe thead th {\n",
       "        text-align: right;\n",
       "    }\n",
       "</style>\n",
       "<table border=\"1\" class=\"dataframe\">\n",
       "  <thead>\n",
       "    <tr style=\"text-align: right;\">\n",
       "      <th></th>\n",
       "      <th>date</th>\n",
       "      <th>store_nbr</th>\n",
       "      <th>transactions</th>\n",
       "    </tr>\n",
       "  </thead>\n",
       "  <tbody>\n",
       "    <tr>\n",
       "      <th>0</th>\n",
       "      <td>2013-01-01</td>\n",
       "      <td>25</td>\n",
       "      <td>770</td>\n",
       "    </tr>\n",
       "    <tr>\n",
       "      <th>1</th>\n",
       "      <td>2013-01-02</td>\n",
       "      <td>1</td>\n",
       "      <td>2111</td>\n",
       "    </tr>\n",
       "    <tr>\n",
       "      <th>2</th>\n",
       "      <td>2013-01-02</td>\n",
       "      <td>2</td>\n",
       "      <td>2358</td>\n",
       "    </tr>\n",
       "    <tr>\n",
       "      <th>3</th>\n",
       "      <td>2013-01-02</td>\n",
       "      <td>3</td>\n",
       "      <td>3487</td>\n",
       "    </tr>\n",
       "    <tr>\n",
       "      <th>4</th>\n",
       "      <td>2013-01-02</td>\n",
       "      <td>4</td>\n",
       "      <td>1922</td>\n",
       "    </tr>\n",
       "  </tbody>\n",
       "</table>\n",
       "</div>"
      ],
      "text/plain": [
       "         date  store_nbr  transactions\n",
       "0  2013-01-01         25           770\n",
       "1  2013-01-02          1          2111\n",
       "2  2013-01-02          2          2358\n",
       "3  2013-01-02          3          3487\n",
       "4  2013-01-02          4          1922"
      ]
     },
     "execution_count": 9,
     "metadata": {},
     "output_type": "execute_result"
    }
   ],
   "source": [
    "transactions_data.head()"
   ]
  },
  {
   "cell_type": "code",
   "execution_count": 10,
   "id": "c418ef2e-a829-4629-827c-cf8c9abea919",
   "metadata": {},
   "outputs": [
    {
     "data": {
      "text/plain": [
       "'2013-01-01'"
      ]
     },
     "execution_count": 10,
     "metadata": {},
     "output_type": "execute_result"
    }
   ],
   "source": [
    "transactions_data[\"date\"].min()"
   ]
  },
  {
   "cell_type": "code",
   "execution_count": 11,
   "id": "3f554529-f2d5-4e16-a57b-ea5f0b491b68",
   "metadata": {},
   "outputs": [
    {
     "data": {
      "text/plain": [
       "'2017-08-15'"
      ]
     },
     "execution_count": 11,
     "metadata": {},
     "output_type": "execute_result"
    }
   ],
   "source": [
    "transactions_data[\"date\"].max()"
   ]
  },
  {
   "cell_type": "markdown",
   "id": "7e82f051-8f9a-444c-a90a-198f75d02249",
   "metadata": {},
   "source": [
    "Now lets look into the data. "
   ]
  },
  {
   "cell_type": "code",
   "execution_count": 12,
   "id": "0368fa58-3689-42bc-a001-d1e04612d0f3",
   "metadata": {},
   "outputs": [
    {
     "data": {
      "text/plain": [
       "[<matplotlib.lines.Line2D at 0x7f7ec01aa520>]"
      ]
     },
     "execution_count": 12,
     "metadata": {},
     "output_type": "execute_result"
    },
    {
     "data": {
      "image/png": "[encoded data removed]",
      "text/plain": [
       "<Figure size 640x480 with 1 Axes>"
      ]
     },
     "metadata": {},
     "output_type": "display_data"
    }
   ],
   "source": [
    "# The problem states that Ecuador is an oil-dependent country and it's economical health is highly vulnerable to shocks in oil prices.\n",
    "# So, we should look into the relationship between oil and transactions to confirm this.\n",
    "\n",
    "plt.plot(oil_data[\"date\"], oil_data[\"dcoilwtico\"])"
   ]
  },
  {
   "cell_type": "code",
   "execution_count": 13,
   "id": "66f7e2d0-e705-4d7d-bcf6-378d4a807a67",
   "metadata": {},
   "outputs": [
    {
     "data": {
      "text/plain": [
       "date\n",
       "2013-01-01     770.000000\n",
       "2013-01-02    2026.413043\n",
       "2013-01-03    1706.608696\n",
       "2013-01-04    1706.391304\n",
       "2013-01-05    2034.195652\n",
       "                 ...     \n",
       "2017-08-11    1658.351852\n",
       "2017-08-12    1665.314815\n",
       "2017-08-13    1592.462963\n",
       "2017-08-14    1582.370370\n",
       "2017-08-15    1602.981481\n",
       "Name: transactions, Length: 1682, dtype: float64"
      ]
     },
     "execution_count": 13,
     "metadata": {},
     "output_type": "execute_result"
    }
   ],
   "source": [
    "# Transactions data has a lot of rows for each store. If we want to find the relationshop between oil prices and transactions, one method \n",
    "# would be to take the average transactions of all the stores to see if it had an economical impact on the economy in Ecuador. \n",
    "transactions_sum_data = transactions_data.groupby(\"date\")[\"transactions\"].mean()\n",
    "\n",
    "# We need to do an inner join and only the transaction sums with \n",
    "transactions_sum_data\n"
   ]
  },
  {
   "cell_type": "code",
   "execution_count": 14,
   "id": "e3b4b10e-b67e-4f27-a3a7-25e84d247298",
   "metadata": {},
   "outputs": [],
   "source": [
    "# Ask to use Tableou for data analysis, python isn't the best "
   ]
  },
  {
   "cell_type": "code",
   "execution_count": 15,
   "id": "b313bb0a-7b35-4284-8289-ad968d05d8a3",
   "metadata": {},
   "outputs": [
    {
     "data": {
      "text/html": [
       "<div>\n",
       "<style scoped>\n",
       "    .dataframe tbody tr th:only-of-type {\n",
       "        vertical-align: middle;\n",
       "    }\n",
       "\n",
       "    .dataframe tbody tr th {\n",
       "        vertical-align: top;\n",
       "    }\n",
       "\n",
       "    .dataframe thead th {\n",
       "        text-align: right;\n",
       "    }\n",
       "</style>\n",
       "<table border=\"1\" class=\"dataframe\">\n",
       "  <thead>\n",
       "    <tr style=\"text-align: right;\">\n",
       "      <th></th>\n",
       "      <th>id</th>\n",
       "      <th>date</th>\n",
       "      <th>store_nbr</th>\n",
       "      <th>family</th>\n",
       "      <th>sales</th>\n",
       "      <th>onpromotion</th>\n",
       "    </tr>\n",
       "  </thead>\n",
       "  <tbody>\n",
       "    <tr>\n",
       "      <th>0</th>\n",
       "      <td>0</td>\n",
       "      <td>2013-01-01</td>\n",
       "      <td>1</td>\n",
       "      <td>AUTOMOTIVE</td>\n",
       "      <td>0.0</td>\n",
       "      <td>0</td>\n",
       "    </tr>\n",
       "    <tr>\n",
       "      <th>1</th>\n",
       "      <td>1</td>\n",
       "      <td>2013-01-01</td>\n",
       "      <td>1</td>\n",
       "      <td>BABY CARE</td>\n",
       "      <td>0.0</td>\n",
       "      <td>0</td>\n",
       "    </tr>\n",
       "    <tr>\n",
       "      <th>2</th>\n",
       "      <td>2</td>\n",
       "      <td>2013-01-01</td>\n",
       "      <td>1</td>\n",
       "      <td>BEAUTY</td>\n",
       "      <td>0.0</td>\n",
       "      <td>0</td>\n",
       "    </tr>\n",
       "    <tr>\n",
       "      <th>3</th>\n",
       "      <td>3</td>\n",
       "      <td>2013-01-01</td>\n",
       "      <td>1</td>\n",
       "      <td>BEVERAGES</td>\n",
       "      <td>0.0</td>\n",
       "      <td>0</td>\n",
       "    </tr>\n",
       "    <tr>\n",
       "      <th>4</th>\n",
       "      <td>4</td>\n",
       "      <td>2013-01-01</td>\n",
       "      <td>1</td>\n",
       "      <td>BOOKS</td>\n",
       "      <td>0.0</td>\n",
       "      <td>0</td>\n",
       "    </tr>\n",
       "  </tbody>\n",
       "</table>\n",
       "</div>"
      ],
      "text/plain": [
       "   id        date  store_nbr      family  sales  onpromotion\n",
       "0   0  2013-01-01          1  AUTOMOTIVE    0.0            0\n",
       "1   1  2013-01-01          1   BABY CARE    0.0            0\n",
       "2   2  2013-01-01          1      BEAUTY    0.0            0\n",
       "3   3  2013-01-01          1   BEVERAGES    0.0            0\n",
       "4   4  2013-01-01          1       BOOKS    0.0            0"
      ]
     },
     "execution_count": 15,
     "metadata": {},
     "output_type": "execute_result"
    }
   ],
   "source": [
    "train_data.head()"
   ]
  },
  {
   "cell_type": "code",
   "execution_count": 16,
   "id": "c5d0945d-483c-4842-bbf2-e5205e67d3d4",
   "metadata": {},
   "outputs": [
    {
     "data": {
      "text/html": [
       "<div>\n",
       "<style scoped>\n",
       "    .dataframe tbody tr th:only-of-type {\n",
       "        vertical-align: middle;\n",
       "    }\n",
       "\n",
       "    .dataframe tbody tr th {\n",
       "        vertical-align: top;\n",
       "    }\n",
       "\n",
       "    .dataframe thead th {\n",
       "        text-align: right;\n",
       "    }\n",
       "</style>\n",
       "<table border=\"1\" class=\"dataframe\">\n",
       "  <thead>\n",
       "    <tr style=\"text-align: right;\">\n",
       "      <th></th>\n",
       "      <th>id</th>\n",
       "      <th>date</th>\n",
       "      <th>store_nbr</th>\n",
       "      <th>family</th>\n",
       "      <th>onpromotion</th>\n",
       "    </tr>\n",
       "  </thead>\n",
       "  <tbody>\n",
       "    <tr>\n",
       "      <th>0</th>\n",
       "      <td>3000888</td>\n",
       "      <td>2017-08-16</td>\n",
       "      <td>1</td>\n",
       "      <td>AUTOMOTIVE</td>\n",
       "      <td>0</td>\n",
       "    </tr>\n",
       "    <tr>\n",
       "      <th>1</th>\n",
       "      <td>3000889</td>\n",
       "      <td>2017-08-16</td>\n",
       "      <td>1</td>\n",
       "      <td>BABY CARE</td>\n",
       "      <td>0</td>\n",
       "    </tr>\n",
       "    <tr>\n",
       "      <th>2</th>\n",
       "      <td>3000890</td>\n",
       "      <td>2017-08-16</td>\n",
       "      <td>1</td>\n",
       "      <td>BEAUTY</td>\n",
       "      <td>2</td>\n",
       "    </tr>\n",
       "    <tr>\n",
       "      <th>3</th>\n",
       "      <td>3000891</td>\n",
       "      <td>2017-08-16</td>\n",
       "      <td>1</td>\n",
       "      <td>BEVERAGES</td>\n",
       "      <td>20</td>\n",
       "    </tr>\n",
       "    <tr>\n",
       "      <th>4</th>\n",
       "      <td>3000892</td>\n",
       "      <td>2017-08-16</td>\n",
       "      <td>1</td>\n",
       "      <td>BOOKS</td>\n",
       "      <td>0</td>\n",
       "    </tr>\n",
       "  </tbody>\n",
       "</table>\n",
       "</div>"
      ],
      "text/plain": [
       "        id        date  store_nbr      family  onpromotion\n",
       "0  3000888  2017-08-16          1  AUTOMOTIVE            0\n",
       "1  3000889  2017-08-16          1   BABY CARE            0\n",
       "2  3000890  2017-08-16          1      BEAUTY            2\n",
       "3  3000891  2017-08-16          1   BEVERAGES           20\n",
       "4  3000892  2017-08-16          1       BOOKS            0"
      ]
     },
     "execution_count": 16,
     "metadata": {},
     "output_type": "execute_result"
    }
   ],
   "source": [
    "test_data.head()"
   ]
  },
  {
   "cell_type": "code",
   "execution_count": 17,
   "id": "2aedf80d-74d0-46c9-bf46-358f4fea7559",
   "metadata": {},
   "outputs": [],
   "source": [
    "# Lets find the list of outlier holidays--holidays that impacted average sales. "
   ]
  },
  {
   "cell_type": "code",
   "execution_count": 18,
   "id": "ba26c65a-abd6-493d-866d-b365e178a73f",
   "metadata": {},
   "outputs": [],
   "source": [
    "avg_sales = train_data.groupby(\"date\")[\"sales\"].mean()"
   ]
  },
  {
   "cell_type": "code",
   "execution_count": 19,
   "id": "e1570b6b-ce36-4620-83d9-3070a001c433",
   "metadata": {},
   "outputs": [],
   "source": [
    "def find_outliers_IQR(df):\n",
    "   q1 = df.quantile(0.25)\n",
    "   q3 = df.quantile(0.75)\n",
    "   IQR=q3-q1\n",
    "   outliers = df[((df<(q1-1.5*IQR)) | (df>(q3+1.5*IQR)))]\n",
    "   return outliers"
   ]
  },
  {
   "cell_type": "code",
   "execution_count": 20,
   "id": "20c270bd-ca9d-4d2f-afdd-611d73d008c7",
   "metadata": {},
   "outputs": [
    {
     "data": {
      "text/plain": [
       "Index(['2016-04-18', '2017-01-02', '2017-04-01', '2017-05-01', '2017-06-04'], dtype='object', name='date')"
      ]
     },
     "execution_count": 20,
     "metadata": {},
     "output_type": "execute_result"
    }
   ],
   "source": [
    "outliers = find_outliers_IQR(avg_sales)\n",
    "outliers.index\n",
    "# Bad"
   ]
  },
  {
   "cell_type": "code",
   "execution_count": 21,
   "id": "44cc67d8-bcf9-474a-a645-1ab10faa78bd",
   "metadata": {},
   "outputs": [
    {
     "name": "stdout",
     "output_type": "stream",
     "text": [
      "date\n",
      "2013-06-02    357.855497\n",
      "2013-09-01    359.374984\n",
      "2013-12-01    391.816571\n",
      "2014-01-01      4.827197\n",
      "2014-03-01    511.425509\n",
      "Name: sales, dtype: float64\n"
     ]
    }
   ],
   "source": [
    "def find_outliers(data, window, z_thresh):\n",
    "    # Calculate the rolling mean and standard deviation\n",
    "    roll_mean = data.rolling(window).mean()\n",
    "    roll_std = data.rolling(window).std()\n",
    "    \n",
    "    outliers = (np.abs(data - roll_mean) > z_thresh * roll_std)\n",
    "\n",
    "    return data.index[outliers]\n",
    "\n",
    "outliers = find_outliers(avg_sales, window=30, z_thresh=2.5)\n",
    "print(avg_sales[outliers].head())"
   ]
  },
  {
   "cell_type": "code",
   "execution_count": 22,
   "id": "09e13e55-c97f-4e81-bdbe-a5340efd420a",
   "metadata": {},
   "outputs": [
    {
     "data": {
      "text/plain": [
       "date\n",
       "2013-01-01           NaN\n",
       "2013-01-02           NaN\n",
       "2013-01-03           NaN\n",
       "2013-01-04           NaN\n",
       "2013-01-05    111.453791\n",
       "                 ...    \n",
       "2017-08-11     38.672092\n",
       "2017-08-12     38.175788\n",
       "2017-08-13     47.043375\n",
       "2017-08-14     45.716734\n",
       "2017-08-15     25.042929\n",
       "Name: sales, Length: 1684, dtype: float64"
      ]
     },
     "execution_count": 22,
     "metadata": {},
     "output_type": "execute_result"
    }
   ],
   "source": [
    "avg_sales.rolling(5).std()"
   ]
  },
  {
   "cell_type": "code",
   "execution_count": 23,
   "id": "ceccdd6c-84f6-4c51-97dc-0b97c248034a",
   "metadata": {},
   "outputs": [
    {
     "name": "stdout",
     "output_type": "stream",
     "text": [
      "Index(['2013-06-02', '2013-09-01', '2013-12-01', '2014-01-01', '2014-03-01',\n",
      "       '2014-06-01', '2014-07-01', '2014-07-02', '2014-07-06', '2014-09-01',\n",
      "       '2014-09-06', '2014-09-07', '2015-01-01', '2015-03-01', '2015-05-31',\n",
      "       '2015-09-06', '2016-01-01', '2016-04-02', '2016-04-03', '2016-04-17',\n",
      "       '2016-04-18', '2016-09-03', '2016-09-04', '2017-01-01', '2017-04-01',\n",
      "       '2017-05-01', '2017-06-04'],\n",
      "      dtype='object', name='date')\n"
     ]
    }
   ],
   "source": [
    "from datetime import datetime\n",
    "\n",
    "dates = []\n",
    "for i in holiday_events_data[\"date\"]:\n",
    "    dates.append(str(i.date()))\n",
    "    \n",
    "outlier_inds = [] \n",
    "outlier_dates = []\n",
    "for i in outliers:\n",
    "    if i in dates:\n",
    "        outlier_inds.append(dates.index(i))\n",
    "        outlier_dates.append(i)\n",
    "\n",
    "print(outliers)"
   ]
  },
  {
   "cell_type": "code",
   "execution_count": 24,
   "id": "71fb6b7d-9ff6-4a3b-8763-886abe3b5239",
   "metadata": {},
   "outputs": [
    {
     "data": {
      "text/html": [
       "<div>\n",
       "<style scoped>\n",
       "    .dataframe tbody tr th:only-of-type {\n",
       "        vertical-align: middle;\n",
       "    }\n",
       "\n",
       "    .dataframe tbody tr th {\n",
       "        vertical-align: top;\n",
       "    }\n",
       "\n",
       "    .dataframe thead th {\n",
       "        text-align: right;\n",
       "    }\n",
       "</style>\n",
       "<table border=\"1\" class=\"dataframe\">\n",
       "  <thead>\n",
       "    <tr style=\"text-align: right;\">\n",
       "      <th></th>\n",
       "      <th>date</th>\n",
       "      <th>type</th>\n",
       "      <th>locale</th>\n",
       "      <th>locale_name</th>\n",
       "      <th>description</th>\n",
       "      <th>transferred</th>\n",
       "      <th>avg_sales</th>\n",
       "    </tr>\n",
       "  </thead>\n",
       "  <tbody>\n",
       "    <tr>\n",
       "      <th>92</th>\n",
       "      <td>2014-01-01</td>\n",
       "      <td>Holiday</td>\n",
       "      <td>National</td>\n",
       "      <td>Ecuador</td>\n",
       "      <td>Primer dia del ano</td>\n",
       "      <td>False</td>\n",
       "      <td>4.827197</td>\n",
       "    </tr>\n",
       "    <tr>\n",
       "      <th>117</th>\n",
       "      <td>2014-07-01</td>\n",
       "      <td>Event</td>\n",
       "      <td>National</td>\n",
       "      <td>Ecuador</td>\n",
       "      <td>Mundial de futbol Brasil: Octavos de Final</td>\n",
       "      <td>False</td>\n",
       "      <td>404.310110</td>\n",
       "    </tr>\n",
       "    <tr>\n",
       "      <th>159</th>\n",
       "      <td>2015-01-01</td>\n",
       "      <td>Holiday</td>\n",
       "      <td>National</td>\n",
       "      <td>Ecuador</td>\n",
       "      <td>Primer dia del ano</td>\n",
       "      <td>False</td>\n",
       "      <td>7.168135</td>\n",
       "    </tr>\n",
       "    <tr>\n",
       "      <th>211</th>\n",
       "      <td>2016-01-01</td>\n",
       "      <td>Holiday</td>\n",
       "      <td>National</td>\n",
       "      <td>Ecuador</td>\n",
       "      <td>Primer dia del ano</td>\n",
       "      <td>False</td>\n",
       "      <td>9.221882</td>\n",
       "    </tr>\n",
       "    <tr>\n",
       "      <th>220</th>\n",
       "      <td>2016-04-17</td>\n",
       "      <td>Event</td>\n",
       "      <td>National</td>\n",
       "      <td>Ecuador</td>\n",
       "      <td>Terremoto Manabi+1</td>\n",
       "      <td>False</td>\n",
       "      <td>713.711414</td>\n",
       "    </tr>\n",
       "    <tr>\n",
       "      <th>221</th>\n",
       "      <td>2016-04-18</td>\n",
       "      <td>Event</td>\n",
       "      <td>National</td>\n",
       "      <td>Ecuador</td>\n",
       "      <td>Terremoto Manabi+2</td>\n",
       "      <td>False</td>\n",
       "      <td>755.286535</td>\n",
       "    </tr>\n",
       "    <tr>\n",
       "      <th>297</th>\n",
       "      <td>2017-01-01</td>\n",
       "      <td>Holiday</td>\n",
       "      <td>National</td>\n",
       "      <td>Ecuador</td>\n",
       "      <td>Primer dia del ano</td>\n",
       "      <td>True</td>\n",
       "      <td>6.780304</td>\n",
       "    </tr>\n",
       "    <tr>\n",
       "      <th>302</th>\n",
       "      <td>2017-04-01</td>\n",
       "      <td>Holiday</td>\n",
       "      <td>Regional</td>\n",
       "      <td>Cotopaxi</td>\n",
       "      <td>Provincializacion de Cotopaxi</td>\n",
       "      <td>False</td>\n",
       "      <td>821.034771</td>\n",
       "    </tr>\n",
       "    <tr>\n",
       "      <th>308</th>\n",
       "      <td>2017-05-01</td>\n",
       "      <td>Holiday</td>\n",
       "      <td>National</td>\n",
       "      <td>Ecuador</td>\n",
       "      <td>Dia del Trabajo</td>\n",
       "      <td>False</td>\n",
       "      <td>733.276861</td>\n",
       "    </tr>\n",
       "  </tbody>\n",
       "</table>\n",
       "</div>"
      ],
      "text/plain": [
       "          date     type    locale locale_name  \\\n",
       "92  2014-01-01  Holiday  National     Ecuador   \n",
       "117 2014-07-01    Event  National     Ecuador   \n",
       "159 2015-01-01  Holiday  National     Ecuador   \n",
       "211 2016-01-01  Holiday  National     Ecuador   \n",
       "220 2016-04-17    Event  National     Ecuador   \n",
       "221 2016-04-18    Event  National     Ecuador   \n",
       "297 2017-01-01  Holiday  National     Ecuador   \n",
       "302 2017-04-01  Holiday  Regional    Cotopaxi   \n",
       "308 2017-05-01  Holiday  National     Ecuador   \n",
       "\n",
       "                                    description  transferred   avg_sales  \n",
       "92                           Primer dia del ano        False    4.827197  \n",
       "117  Mundial de futbol Brasil: Octavos de Final        False  404.310110  \n",
       "159                          Primer dia del ano        False    7.168135  \n",
       "211                          Primer dia del ano        False    9.221882  \n",
       "220                          Terremoto Manabi+1        False  713.711414  \n",
       "221                          Terremoto Manabi+2        False  755.286535  \n",
       "297                          Primer dia del ano         True    6.780304  \n",
       "302               Provincializacion de Cotopaxi        False  821.034771  \n",
       "308                             Dia del Trabajo        False  733.276861  "
      ]
     },
     "execution_count": 24,
     "metadata": {},
     "output_type": "execute_result"
    }
   ],
   "source": [
    "holiday_outliers = holiday_events_data.loc[outlier_inds]\n",
    "holiday_outliers = holiday_outliers.assign(avg_sales = list(avg_sales[outlier_dates]))\n",
    "holiday_outliers"
   ]
  },
  {
   "cell_type": "code",
   "execution_count": 25,
   "id": "54f4b363-3ea2-4bad-9948-00f1b650f4d5",
   "metadata": {},
   "outputs": [
    {
     "data": {
      "text/html": [
       "<div>\n",
       "<style scoped>\n",
       "    .dataframe tbody tr th:only-of-type {\n",
       "        vertical-align: middle;\n",
       "    }\n",
       "\n",
       "    .dataframe tbody tr th {\n",
       "        vertical-align: top;\n",
       "    }\n",
       "\n",
       "    .dataframe thead th {\n",
       "        text-align: right;\n",
       "    }\n",
       "</style>\n",
       "<table border=\"1\" class=\"dataframe\">\n",
       "  <thead>\n",
       "    <tr style=\"text-align: right;\">\n",
       "      <th></th>\n",
       "      <th>date</th>\n",
       "      <th>type</th>\n",
       "      <th>locale</th>\n",
       "      <th>locale_name</th>\n",
       "      <th>description</th>\n",
       "      <th>transferred</th>\n",
       "    </tr>\n",
       "  </thead>\n",
       "  <tbody>\n",
       "    <tr>\n",
       "      <th>0</th>\n",
       "      <td>2012-03-02</td>\n",
       "      <td>Holiday</td>\n",
       "      <td>Local</td>\n",
       "      <td>Manta</td>\n",
       "      <td>Fundacion de Manta</td>\n",
       "      <td>False</td>\n",
       "    </tr>\n",
       "    <tr>\n",
       "      <th>2</th>\n",
       "      <td>2012-04-12</td>\n",
       "      <td>Holiday</td>\n",
       "      <td>Local</td>\n",
       "      <td>Cuenca</td>\n",
       "      <td>Fundacion de Cuenca</td>\n",
       "      <td>False</td>\n",
       "    </tr>\n",
       "    <tr>\n",
       "      <th>3</th>\n",
       "      <td>2012-04-14</td>\n",
       "      <td>Holiday</td>\n",
       "      <td>Local</td>\n",
       "      <td>Libertad</td>\n",
       "      <td>Cantonizacion de Libertad</td>\n",
       "      <td>False</td>\n",
       "    </tr>\n",
       "    <tr>\n",
       "      <th>4</th>\n",
       "      <td>2012-04-21</td>\n",
       "      <td>Holiday</td>\n",
       "      <td>Local</td>\n",
       "      <td>Riobamba</td>\n",
       "      <td>Cantonizacion de Riobamba</td>\n",
       "      <td>False</td>\n",
       "    </tr>\n",
       "    <tr>\n",
       "      <th>5</th>\n",
       "      <td>2012-05-12</td>\n",
       "      <td>Holiday</td>\n",
       "      <td>Local</td>\n",
       "      <td>Puyo</td>\n",
       "      <td>Cantonizacion del Puyo</td>\n",
       "      <td>False</td>\n",
       "    </tr>\n",
       "    <tr>\n",
       "      <th>...</th>\n",
       "      <td>...</td>\n",
       "      <td>...</td>\n",
       "      <td>...</td>\n",
       "      <td>...</td>\n",
       "      <td>...</td>\n",
       "      <td>...</td>\n",
       "    </tr>\n",
       "    <tr>\n",
       "      <th>339</th>\n",
       "      <td>2017-12-05</td>\n",
       "      <td>Additional</td>\n",
       "      <td>Local</td>\n",
       "      <td>Quito</td>\n",
       "      <td>Fundacion de Quito-1</td>\n",
       "      <td>False</td>\n",
       "    </tr>\n",
       "    <tr>\n",
       "      <th>340</th>\n",
       "      <td>2017-12-06</td>\n",
       "      <td>Holiday</td>\n",
       "      <td>Local</td>\n",
       "      <td>Quito</td>\n",
       "      <td>Fundacion de Quito</td>\n",
       "      <td>True</td>\n",
       "    </tr>\n",
       "    <tr>\n",
       "      <th>341</th>\n",
       "      <td>2017-12-08</td>\n",
       "      <td>Holiday</td>\n",
       "      <td>Local</td>\n",
       "      <td>Loja</td>\n",
       "      <td>Fundacion de Loja</td>\n",
       "      <td>False</td>\n",
       "    </tr>\n",
       "    <tr>\n",
       "      <th>342</th>\n",
       "      <td>2017-12-08</td>\n",
       "      <td>Transfer</td>\n",
       "      <td>Local</td>\n",
       "      <td>Quito</td>\n",
       "      <td>Traslado Fundacion de Quito</td>\n",
       "      <td>False</td>\n",
       "    </tr>\n",
       "    <tr>\n",
       "      <th>344</th>\n",
       "      <td>2017-12-22</td>\n",
       "      <td>Holiday</td>\n",
       "      <td>Local</td>\n",
       "      <td>Salinas</td>\n",
       "      <td>Cantonizacion de Salinas</td>\n",
       "      <td>False</td>\n",
       "    </tr>\n",
       "  </tbody>\n",
       "</table>\n",
       "<p>152 rows × 6 columns</p>\n",
       "</div>"
      ],
      "text/plain": [
       "          date        type locale locale_name                  description  \\\n",
       "0   2012-03-02     Holiday  Local       Manta           Fundacion de Manta   \n",
       "2   2012-04-12     Holiday  Local      Cuenca          Fundacion de Cuenca   \n",
       "3   2012-04-14     Holiday  Local    Libertad    Cantonizacion de Libertad   \n",
       "4   2012-04-21     Holiday  Local    Riobamba    Cantonizacion de Riobamba   \n",
       "5   2012-05-12     Holiday  Local        Puyo       Cantonizacion del Puyo   \n",
       "..         ...         ...    ...         ...                          ...   \n",
       "339 2017-12-05  Additional  Local       Quito         Fundacion de Quito-1   \n",
       "340 2017-12-06     Holiday  Local       Quito           Fundacion de Quito   \n",
       "341 2017-12-08     Holiday  Local        Loja            Fundacion de Loja   \n",
       "342 2017-12-08    Transfer  Local       Quito  Traslado Fundacion de Quito   \n",
       "344 2017-12-22     Holiday  Local     Salinas     Cantonizacion de Salinas   \n",
       "\n",
       "     transferred  \n",
       "0          False  \n",
       "2          False  \n",
       "3          False  \n",
       "4          False  \n",
       "5          False  \n",
       "..           ...  \n",
       "339        False  \n",
       "340         True  \n",
       "341        False  \n",
       "342        False  \n",
       "344        False  \n",
       "\n",
       "[152 rows x 6 columns]"
      ]
     },
     "execution_count": 25,
     "metadata": {},
     "output_type": "execute_result"
    }
   ],
   "source": [
    "local_holidays = holiday_events_data[holiday_events_data['locale'] == 'Local']\n",
    "local_holidays"
   ]
  },
  {
   "cell_type": "markdown",
   "id": "82a0e25e-918c-4560-aab1-0bdf3dc27f13",
   "metadata": {},
   "source": [
    "Machine Learning:\n",
    "\n",
    "In this competition, you will predict sales for the thousands of product families sold at Favorita stores located in Ecuador. Favorita stores is a large Ecuadorian-based grocery retailer. "
   ]
  },
  {
   "cell_type": "code",
   "execution_count": 26,
   "id": "e3eb6638-f1b9-4817-8094-ce0216e15a57",
   "metadata": {},
   "outputs": [],
   "source": [
    "# Feature engineering: colunn for is local holidays, another column for is_regional/national holidays"
   ]
  },
  {
   "cell_type": "code",
   "execution_count": 27,
   "id": "fd3bf0f8-0371-462a-a5c9-3bbf4cf8b219",
   "metadata": {},
   "outputs": [
    {
     "data": {
      "text/html": [
       "<div>\n",
       "<style scoped>\n",
       "    .dataframe tbody tr th:only-of-type {\n",
       "        vertical-align: middle;\n",
       "    }\n",
       "\n",
       "    .dataframe tbody tr th {\n",
       "        vertical-align: top;\n",
       "    }\n",
       "\n",
       "    .dataframe thead th {\n",
       "        text-align: right;\n",
       "    }\n",
       "</style>\n",
       "<table border=\"1\" class=\"dataframe\">\n",
       "  <thead>\n",
       "    <tr style=\"text-align: right;\">\n",
       "      <th></th>\n",
       "      <th>id</th>\n",
       "      <th>date</th>\n",
       "      <th>store_nbr</th>\n",
       "      <th>family</th>\n",
       "      <th>sales</th>\n",
       "      <th>onpromotion</th>\n",
       "    </tr>\n",
       "  </thead>\n",
       "  <tbody>\n",
       "    <tr>\n",
       "      <th>0</th>\n",
       "      <td>0</td>\n",
       "      <td>2013-01-01</td>\n",
       "      <td>1</td>\n",
       "      <td>AUTOMOTIVE</td>\n",
       "      <td>0.0</td>\n",
       "      <td>0</td>\n",
       "    </tr>\n",
       "    <tr>\n",
       "      <th>1</th>\n",
       "      <td>1</td>\n",
       "      <td>2013-01-01</td>\n",
       "      <td>1</td>\n",
       "      <td>BABY CARE</td>\n",
       "      <td>0.0</td>\n",
       "      <td>0</td>\n",
       "    </tr>\n",
       "    <tr>\n",
       "      <th>2</th>\n",
       "      <td>2</td>\n",
       "      <td>2013-01-01</td>\n",
       "      <td>1</td>\n",
       "      <td>BEAUTY</td>\n",
       "      <td>0.0</td>\n",
       "      <td>0</td>\n",
       "    </tr>\n",
       "    <tr>\n",
       "      <th>3</th>\n",
       "      <td>3</td>\n",
       "      <td>2013-01-01</td>\n",
       "      <td>1</td>\n",
       "      <td>BEVERAGES</td>\n",
       "      <td>0.0</td>\n",
       "      <td>0</td>\n",
       "    </tr>\n",
       "    <tr>\n",
       "      <th>4</th>\n",
       "      <td>4</td>\n",
       "      <td>2013-01-01</td>\n",
       "      <td>1</td>\n",
       "      <td>BOOKS</td>\n",
       "      <td>0.0</td>\n",
       "      <td>0</td>\n",
       "    </tr>\n",
       "  </tbody>\n",
       "</table>\n",
       "</div>"
      ],
      "text/plain": [
       "   id        date  store_nbr      family  sales  onpromotion\n",
       "0   0  2013-01-01          1  AUTOMOTIVE    0.0            0\n",
       "1   1  2013-01-01          1   BABY CARE    0.0            0\n",
       "2   2  2013-01-01          1      BEAUTY    0.0            0\n",
       "3   3  2013-01-01          1   BEVERAGES    0.0            0\n",
       "4   4  2013-01-01          1       BOOKS    0.0            0"
      ]
     },
     "execution_count": 27,
     "metadata": {},
     "output_type": "execute_result"
    }
   ],
   "source": [
    "train_data.head()"
   ]
  },
  {
   "cell_type": "code",
   "execution_count": 28,
   "id": "026dbd0f-f45e-4295-ba40-c34efd3fc1b9",
   "metadata": {},
   "outputs": [
    {
     "data": {
      "text/html": [
       "<div>\n",
       "<style scoped>\n",
       "    .dataframe tbody tr th:only-of-type {\n",
       "        vertical-align: middle;\n",
       "    }\n",
       "\n",
       "    .dataframe tbody tr th {\n",
       "        vertical-align: top;\n",
       "    }\n",
       "\n",
       "    .dataframe thead th {\n",
       "        text-align: right;\n",
       "    }\n",
       "</style>\n",
       "<table border=\"1\" class=\"dataframe\">\n",
       "  <thead>\n",
       "    <tr style=\"text-align: right;\">\n",
       "      <th></th>\n",
       "      <th>id</th>\n",
       "      <th>date</th>\n",
       "      <th>store_nbr</th>\n",
       "      <th>family</th>\n",
       "      <th>onpromotion</th>\n",
       "    </tr>\n",
       "  </thead>\n",
       "  <tbody>\n",
       "    <tr>\n",
       "      <th>0</th>\n",
       "      <td>3000888</td>\n",
       "      <td>2017-08-16</td>\n",
       "      <td>1</td>\n",
       "      <td>AUTOMOTIVE</td>\n",
       "      <td>0</td>\n",
       "    </tr>\n",
       "    <tr>\n",
       "      <th>1</th>\n",
       "      <td>3000889</td>\n",
       "      <td>2017-08-16</td>\n",
       "      <td>1</td>\n",
       "      <td>BABY CARE</td>\n",
       "      <td>0</td>\n",
       "    </tr>\n",
       "    <tr>\n",
       "      <th>2</th>\n",
       "      <td>3000890</td>\n",
       "      <td>2017-08-16</td>\n",
       "      <td>1</td>\n",
       "      <td>BEAUTY</td>\n",
       "      <td>2</td>\n",
       "    </tr>\n",
       "    <tr>\n",
       "      <th>3</th>\n",
       "      <td>3000891</td>\n",
       "      <td>2017-08-16</td>\n",
       "      <td>1</td>\n",
       "      <td>BEVERAGES</td>\n",
       "      <td>20</td>\n",
       "    </tr>\n",
       "    <tr>\n",
       "      <th>4</th>\n",
       "      <td>3000892</td>\n",
       "      <td>2017-08-16</td>\n",
       "      <td>1</td>\n",
       "      <td>BOOKS</td>\n",
       "      <td>0</td>\n",
       "    </tr>\n",
       "  </tbody>\n",
       "</table>\n",
       "</div>"
      ],
      "text/plain": [
       "        id        date  store_nbr      family  onpromotion\n",
       "0  3000888  2017-08-16          1  AUTOMOTIVE            0\n",
       "1  3000889  2017-08-16          1   BABY CARE            0\n",
       "2  3000890  2017-08-16          1      BEAUTY            2\n",
       "3  3000891  2017-08-16          1   BEVERAGES           20\n",
       "4  3000892  2017-08-16          1       BOOKS            0"
      ]
     },
     "execution_count": 28,
     "metadata": {},
     "output_type": "execute_result"
    }
   ],
   "source": [
    "test_data.head()"
   ]
  },
  {
   "cell_type": "code",
   "execution_count": 29,
   "id": "a3c59012-4030-4c7c-b7d5-e9b3ff299dc5",
   "metadata": {},
   "outputs": [
    {
     "name": "stderr",
     "output_type": "stream",
     "text": [
      "/var/folders/3f/8w_4h_hj2915c7c2mpbt70sr0000gn/T/ipykernel_4604/3690293686.py:6: SettingWithCopyWarning: \n",
      "A value is trying to be set on a copy of a slice from a DataFrame.\n",
      "Try using .loc[row_indexer,col_indexer] = value instead\n",
      "\n",
      "See the caveats in the documentation: https://pandas.pydata.org/pandas-docs/stable/user_guide/indexing.html#returning-a-view-versus-a-copy\n",
      "  local_holidays['date'] = pd.to_datetime(local_holidays['date'])\n",
      "/var/folders/3f/8w_4h_hj2915c7c2mpbt70sr0000gn/T/ipykernel_4604/3690293686.py:17: SettingWithCopyWarning: \n",
      "A value is trying to be set on a copy of a slice from a DataFrame.\n",
      "Try using .loc[row_indexer,col_indexer] = value instead\n",
      "\n",
      "See the caveats in the documentation: https://pandas.pydata.org/pandas-docs/stable/user_guide/indexing.html#returning-a-view-versus-a-copy\n",
      "  non_local_holidays['date'] = pd.to_datetime(non_local_holidays['date'])\n"
     ]
    }
   ],
   "source": [
    "# Next, we need to map train data to stores_data to get the city, from the city, we need to map city to the local holiday city\n",
    "\n",
    "local_holidays = holiday_events_data[holiday_events_data['locale'] == 'Local']\n",
    "train_data_with_city = pd.merge(train_data, stores_data[['store_nbr', 'city']], on='store_nbr', how='left')\n",
    "train_data_with_city['date'] = pd.to_datetime(train_data_with_city['date'])\n",
    "local_holidays['date'] = pd.to_datetime(local_holidays['date'])\n",
    "\n",
    "temp = local_holidays.drop([\"locale\", \"type\", \"description\", \"transferred\"], axis = 1)\n",
    "temp[\"local_holiday\"] = 1\n",
    "local_holidays = temp\n",
    "\n",
    "sales_with_holidays = pd.merge(train_data_with_city, local_holidays, left_on=['date', 'city'], right_on=['date', 'locale_name'], how='left')\n",
    "sales_with_holidays = sales_with_holidays.drop([\"locale_name\"], axis = 1)\n",
    "sales_with_holidays[\"local_holiday\"] = sales_with_holidays[\"local_holiday\"].fillna(0)\n",
    "\n",
    "non_local_holidays = holiday_events_data[holiday_events_data['locale'] != 'Local']\n",
    "non_local_holidays['date'] = pd.to_datetime(non_local_holidays['date'])\n",
    "\n",
    "temp_2 = non_local_holidays.drop([\"locale\", \"type\", \"description\", \"transferred\"], axis = 1)\n",
    "temp_2[\"non_local_holiday\"] = 1\n",
    "non_local_holidays = temp_2\n",
    "\n",
    "sales_with_holidays = pd.merge(sales_with_holidays, non_local_holidays, left_on=['date'], right_on=['date'], how='left')\n",
    "sales_with_holidays = sales_with_holidays.drop([\"locale_name\"], axis = 1)\n",
    "sales_with_holidays[\"non_local_holiday\"] = sales_with_holidays[\"non_local_holiday\"].fillna(0)"
   ]
  },
  {
   "cell_type": "code",
   "execution_count": 30,
   "id": "cdd7dba5-84c4-46e8-af4f-74c47bba09db",
   "metadata": {},
   "outputs": [
    {
     "data": {
      "text/plain": [
       "0.0    2716032\n",
       "1.0     294030\n",
       "Name: non_local_holiday, dtype: int64"
      ]
     },
     "execution_count": 30,
     "metadata": {},
     "output_type": "execute_result"
    }
   ],
   "source": [
    "sales_with_holidays[\"non_local_holiday\"].value_counts()"
   ]
  },
  {
   "cell_type": "code",
   "execution_count": 31,
   "id": "5ad617d7-4446-4ad3-b85e-ca494fb3d472",
   "metadata": {},
   "outputs": [
    {
     "data": {
      "text/html": [
       "<div>\n",
       "<style scoped>\n",
       "    .dataframe tbody tr th:only-of-type {\n",
       "        vertical-align: middle;\n",
       "    }\n",
       "\n",
       "    .dataframe tbody tr th {\n",
       "        vertical-align: top;\n",
       "    }\n",
       "\n",
       "    .dataframe thead th {\n",
       "        text-align: right;\n",
       "    }\n",
       "</style>\n",
       "<table border=\"1\" class=\"dataframe\">\n",
       "  <thead>\n",
       "    <tr style=\"text-align: right;\">\n",
       "      <th></th>\n",
       "      <th>id</th>\n",
       "      <th>date</th>\n",
       "      <th>store_nbr</th>\n",
       "      <th>family</th>\n",
       "      <th>sales</th>\n",
       "      <th>onpromotion</th>\n",
       "      <th>city</th>\n",
       "      <th>local_holiday</th>\n",
       "      <th>non_local_holiday</th>\n",
       "    </tr>\n",
       "  </thead>\n",
       "  <tbody>\n",
       "    <tr>\n",
       "      <th>0</th>\n",
       "      <td>0</td>\n",
       "      <td>2013-01-01</td>\n",
       "      <td>1</td>\n",
       "      <td>AUTOMOTIVE</td>\n",
       "      <td>0.0</td>\n",
       "      <td>0</td>\n",
       "      <td>Quito</td>\n",
       "      <td>0.0</td>\n",
       "      <td>1.0</td>\n",
       "    </tr>\n",
       "    <tr>\n",
       "      <th>1</th>\n",
       "      <td>1</td>\n",
       "      <td>2013-01-01</td>\n",
       "      <td>1</td>\n",
       "      <td>BABY CARE</td>\n",
       "      <td>0.0</td>\n",
       "      <td>0</td>\n",
       "      <td>Quito</td>\n",
       "      <td>0.0</td>\n",
       "      <td>1.0</td>\n",
       "    </tr>\n",
       "    <tr>\n",
       "      <th>2</th>\n",
       "      <td>2</td>\n",
       "      <td>2013-01-01</td>\n",
       "      <td>1</td>\n",
       "      <td>BEAUTY</td>\n",
       "      <td>0.0</td>\n",
       "      <td>0</td>\n",
       "      <td>Quito</td>\n",
       "      <td>0.0</td>\n",
       "      <td>1.0</td>\n",
       "    </tr>\n",
       "    <tr>\n",
       "      <th>3</th>\n",
       "      <td>3</td>\n",
       "      <td>2013-01-01</td>\n",
       "      <td>1</td>\n",
       "      <td>BEVERAGES</td>\n",
       "      <td>0.0</td>\n",
       "      <td>0</td>\n",
       "      <td>Quito</td>\n",
       "      <td>0.0</td>\n",
       "      <td>1.0</td>\n",
       "    </tr>\n",
       "    <tr>\n",
       "      <th>4</th>\n",
       "      <td>4</td>\n",
       "      <td>2013-01-01</td>\n",
       "      <td>1</td>\n",
       "      <td>BOOKS</td>\n",
       "      <td>0.0</td>\n",
       "      <td>0</td>\n",
       "      <td>Quito</td>\n",
       "      <td>0.0</td>\n",
       "      <td>1.0</td>\n",
       "    </tr>\n",
       "  </tbody>\n",
       "</table>\n",
       "</div>"
      ],
      "text/plain": [
       "   id       date  store_nbr      family  sales  onpromotion   city  \\\n",
       "0   0 2013-01-01          1  AUTOMOTIVE    0.0            0  Quito   \n",
       "1   1 2013-01-01          1   BABY CARE    0.0            0  Quito   \n",
       "2   2 2013-01-01          1      BEAUTY    0.0            0  Quito   \n",
       "3   3 2013-01-01          1   BEVERAGES    0.0            0  Quito   \n",
       "4   4 2013-01-01          1       BOOKS    0.0            0  Quito   \n",
       "\n",
       "   local_holiday  non_local_holiday  \n",
       "0            0.0                1.0  \n",
       "1            0.0                1.0  \n",
       "2            0.0                1.0  \n",
       "3            0.0                1.0  \n",
       "4            0.0                1.0  "
      ]
     },
     "execution_count": 31,
     "metadata": {},
     "output_type": "execute_result"
    }
   ],
   "source": [
    "sales_with_holidays.head()"
   ]
  },
  {
   "cell_type": "code",
   "execution_count": 152,
   "id": "a5d962fb-d223-41a0-84d5-1f6956039071",
   "metadata": {},
   "outputs": [
    {
     "data": {
      "image/png": "[encoded data removed]",
      "text/plain": [
       "<Figure size 640x480 with 1 Axes>"
      ]
     },
     "metadata": {},
     "output_type": "display_data"
    }
   ],
   "source": [
    "plt.plot(sales_with_holidays[sales_with_holidays[\"family\"] == \"PRODUCE\"][\"date\"], sales_with_holidays[sales_with_holidays[\"family\"] == \"PRODUCE\"][\"sales\"])\n",
    "plt.xlabel('Date')\n",
    "plt.ylabel('Sales')\n",
    "plt.title('Produce Sales vs Date')\n",
    "plt.show()"
   ]
  },
  {
   "cell_type": "code",
   "execution_count": 33,
   "id": "455a9896-5413-45e4-b6c8-387dfb1b1b13",
   "metadata": {},
   "outputs": [],
   "source": [
    "from statsmodels.graphics.tsaplots import plot_acf\n",
    "from statsmodels.tsa.stattools import adfuller"
   ]
  },
  {
   "cell_type": "code",
   "execution_count": 183,
   "id": "ae80c64b-911e-4489-a301-a6a481032edf",
   "metadata": {},
   "outputs": [
    {
     "data": {
      "text/plain": [
       "[<matplotlib.lines.Line2D at 0x7f7ef35d31c0>]"
      ]
     },
     "execution_count": 183,
     "metadata": {},
     "output_type": "execute_result"
    },
    {
     "data": {
      "image/png": "[encoded data removed]",
      "text/plain": [
       "<Figure size 640x480 with 1 Axes>"
      ]
     },
     "metadata": {},
     "output_type": "display_data"
    }
   ],
   "source": [
    "# lets check the ACF plots to find a method to impute the rows using more accurate data\n",
    "x_part = sales_with_holidays[sales_with_holidays[\"family\"] == \"PRODUCE\"][\"date\"]\n",
    "y_part = sales_with_holidays[sales_with_holidays[\"family\"] == \"PRODUCE\"][\"sales\"]\n",
    "y_part = y_part.reset_index(drop = True)[52000:]\n",
    "\n",
    "plt.plot(y_part)   "
   ]
  },
  {
   "cell_type": "code",
   "execution_count": 184,
   "id": "f268cc6c-9d3d-4780-acb8-522262dd68bb",
   "metadata": {},
   "outputs": [
    {
     "name": "stdout",
     "output_type": "stream",
     "text": [
      "ADF Statistic: -11.286070\n",
      "p-value: 0.000000\n",
      "Critical Values:\n",
      "\t1%: -3.431\n",
      "\t5%: -2.862\n",
      "\t10%: -2.567\n"
     ]
    }
   ],
   "source": [
    "# Since the p-value is < 0.05 we can assume the time-series is stationary\n",
    "\n",
    "# Hypothesis test\n",
    "result = adfuller(y_part)\n",
    "print('ADF Statistic: %f' % result[0])\n",
    "print('p-value: %f' % result[1])\n",
    "print('Critical Values:')\n",
    "for key, value in result[4].items():\n",
    "    print('\\t%s: %.3f' % (key, value))"
   ]
  },
  {
   "cell_type": "code",
   "execution_count": 182,
   "id": "0a6b4138-b8c9-4225-817e-80f612a5dd36",
   "metadata": {},
   "outputs": [
    {
     "name": "stderr",
     "output_type": "stream",
     "text": [
      "/Users/chrisapton/opt/anaconda3/lib/python3.8/site-packages/statsmodels/graphics/tsaplots.py:348: FutureWarning: The default method 'yw' can produce PACF values outside of the [-1,1] interval. After 0.13, the default will change tounadjusted Yule-Walker ('ywm'). You can use this method now by setting method='ywm'.\n",
      "  warnings.warn(\n"
     ]
    },
    {
     "data": {
      "image/png": "[encoded data removed]",
      "text/plain": [
       "<Figure size 640x480 with 1 Axes>"
      ]
     },
     "metadata": {},
     "output_type": "display_data"
    }
   ],
   "source": [
    "# Showing the PACF for fun\n",
    "plot_pacf(y_part, lags=30)\n",
    "plt.show()"
   ]
  },
  {
   "cell_type": "code",
   "execution_count": 48,
   "id": "192afb86-db43-4e32-90dc-ce4e2db9c2da",
   "metadata": {},
   "outputs": [],
   "source": [
    "# sampling the produce rows to fill the data\n",
    "\n",
    "produce_rows = sales_with_holidays[sales_with_holidays[\"family\"] == \"PRODUCE\"]\n",
    "good_rows = produce_rows[produce_rows[\"sales\"] >= 200]\n",
    "bad_rows = produce_rows[produce_rows[\"sales\"] < 200]"
   ]
  },
  {
   "cell_type": "code",
   "execution_count": 149,
   "id": "a03cb86a-dfe8-4f83-8072-9c88933e800e",
   "metadata": {},
   "outputs": [
    {
     "name": "stdout",
     "output_type": "stream",
     "text": [
      "5 0 5\n"
     ]
    }
   ],
   "source": [
    "# Used auto arima to find better parameters for the arima model\n",
    "#model = auto_arima(train, trace=True, error_action='ignore', suppress_warnings=True)\n",
    "# best is 5, 0, 5\n",
    "print(5, 0, 5)"
   ]
  },
  {
   "cell_type": "code",
   "execution_count": 148,
   "id": "81387ec3-f0d5-4e72-8982-8964d297f172",
   "metadata": {},
   "outputs": [
    {
     "name": "stderr",
     "output_type": "stream",
     "text": [
      "/Users/chrisapton/opt/anaconda3/lib/python3.8/site-packages/statsmodels/tsa/base/tsa_model.py:471: ValueWarning: A date index has been provided, but it has no associated frequency information and so will be ignored when e.g. forecasting.\n",
      "  self._init_dates(dates, freq)\n",
      "/Users/chrisapton/opt/anaconda3/lib/python3.8/site-packages/statsmodels/tsa/base/tsa_model.py:471: ValueWarning: A date index has been provided, but it has no associated frequency information and so will be ignored when e.g. forecasting.\n",
      "  self._init_dates(dates, freq)\n",
      "/Users/chrisapton/opt/anaconda3/lib/python3.8/site-packages/statsmodels/tsa/base/tsa_model.py:471: ValueWarning: A date index has been provided, but it has no associated frequency information and so will be ignored when e.g. forecasting.\n",
      "  self._init_dates(dates, freq)\n",
      "/Users/chrisapton/opt/anaconda3/lib/python3.8/site-packages/statsmodels/tsa/base/tsa_model.py:834: ValueWarning: No supported index is available. Prediction results will be given with an integer index beginning at `start`.\n",
      "  return get_prediction_index(\n"
     ]
    }
   ],
   "source": [
    "df = pd.DataFrame(data={'Time': good_rows[\"date\"].values, 'Value': good_rows[\"sales\"].values}).set_index('Time')\n",
    "\n",
    "train_size = int(len(df) * 0.80)  # 80% for training\n",
    "train, test = df[0:train_size], df[train_size:len(df)]\n",
    "\n",
    "# Auto arima to find the best parameters\n",
    "\n",
    "\n",
    "\n",
    "model = ARIMA(train, order=(5, 0, 5))  \n",
    "model_fit = model.fit()\n",
    "predictions = model_fit.predict(start=len(train), end=len(train)+len(test)-1, typ='levels')\n",
    "predictions_df = pd.DataFrame(predictions.values, index=test.index, columns=['Prediction'])"
   ]
  },
  {
   "cell_type": "markdown",
   "id": "2dd98c02-7287-4ed9-b869-578968996246",
   "metadata": {},
   "source": [
    "It turned out, the arima model didn't really do much better than just taking the mean of the data. So, just to make things easier, I'll just impute the data using the mean. "
   ]
  },
  {
   "cell_type": "code",
   "execution_count": 151,
   "id": "59813424-b5ec-491d-b8ec-8ec39553b7dc",
   "metadata": {},
   "outputs": [
    {
     "data": {
      "image/png": "[encoded data removed]",
      "text/plain": [
       "<Figure size 640x480 with 1 Axes>"
      ]
     },
     "metadata": {},
     "output_type": "display_data"
    }
   ],
   "source": [
    "# Plot the ARIMA model predictions to show it's unusefulness\n",
    "plt.plot(predictions_df[\"Prediction\"].index, predictions_df[\"Prediction\"].values, label='Actual')\n",
    "plt.legend(loc='best')\n",
    "plt.ylim(0, 4000)\n",
    "plt.show()"
   ]
  },
  {
   "cell_type": "code",
   "execution_count": 178,
   "id": "7b8b3c03-d6d5-49ba-92b9-4498b3d44f9f",
   "metadata": {},
   "outputs": [
    {
     "data": {
      "text/plain": [
       "2409.716470790755"
      ]
     },
     "execution_count": 178,
     "metadata": {},
     "output_type": "execute_result"
    }
   ],
   "source": [
    "# Comparing the line to the mean of the data the ARIMA model was trained from.\n",
    "print(np.mean(good_rows[\"sales\"]))"
   ]
  },
  {
   "cell_type": "code",
   "execution_count": 185,
   "id": "f771ec82-9a07-4565-aa4f-98f3cccc183d",
   "metadata": {},
   "outputs": [],
   "source": [
    "# Can ignore, testing code\n",
    "\n",
    "#temp = model_fit.predict(start=len(train), end=len(train) + len(bad_rows[\"sales\"]) - 1, typ='levels')\n",
    "#counter = 0\n",
    "#for i in list(bad_rows[\"sales\"].index):\n",
    "#    bad_rows[\"sales\"][i] = temp.values[counter]\n",
    "#    counter += 1"
   ]
  },
  {
   "cell_type": "code",
   "execution_count": 180,
   "id": "3afc6c72-cd16-4592-b22e-01b5054eb679",
   "metadata": {},
   "outputs": [
    {
     "name": "stderr",
     "output_type": "stream",
     "text": [
      "/var/folders/3f/8w_4h_hj2915c7c2mpbt70sr0000gn/T/ipykernel_4604/3025343523.py:6: SettingWithCopyWarning: \n",
      "A value is trying to be set on a copy of a slice from a DataFrame\n",
      "\n",
      "See the caveats in the documentation: https://pandas.pydata.org/pandas-docs/stable/user_guide/indexing.html#returning-a-view-versus-a-copy\n",
      "  bad_rows[\"sales\"][i] = np.mean(good_rows[\"sales\"])\n"
     ]
    }
   ],
   "source": [
    "# I'll just impute by mean\n",
    "for i in list(bad_rows[\"sales\"].index):\n",
    "    bad_rows[\"sales\"][i] = np.mean(good_rows[\"sales\"])\n",
    "\n",
    "updated_produce = pd.concat([good_rows, bad_rows])\n",
    "updated_produce = updated_produce.drop([\"date\", \"store_nbr\", \"family\", \"onpromotion\", \"city\", \"local_holiday\", \"non_local_holiday\"], axis = 1)\n",
    "\n",
    "df_merged = pd.merge(sales_with_holidays, updated_produce, left_on=['id'], right_on=['id'], how='left')\n",
    "df_merged['sales'] = df_merged['sales_y'].where(df_merged['sales_y'].notna(), df_merged['sales_x'])\n",
    "df_merged = df_merged.drop(['sales_x', 'sales_y'], axis=1)\n",
    "sales_with_holidays = df_merged\n",
    "data = sales_with_holidays"
   ]
  },
  {
   "cell_type": "code",
   "execution_count": 186,
   "id": "e011691d-bf37-4fc4-a443-61c02c135130",
   "metadata": {},
   "outputs": [
    {
     "data": {
      "image/png": "[encoded data removed]",
      "text/plain": [
       "<Figure size 640x480 with 1 Axes>"
      ]
     },
     "metadata": {},
     "output_type": "display_data"
    }
   ],
   "source": [
    "plt.plot(sales_with_holidays[sales_with_holidays[\"family\"] == \"PRODUCE\"][\"date\"], sales_with_holidays[sales_with_holidays[\"family\"] == \"PRODUCE\"][\"sales\"], 'o')\n",
    "plt.xlabel('Date')\n",
    "plt.ylabel('Sales')\n",
    "plt.title('Produce Sales vs Date')\n",
    "plt.show()"
   ]
  },
  {
   "cell_type": "code",
   "execution_count": 187,
   "id": "cbee1250-595a-4f81-bf4c-bd8a33974324",
   "metadata": {},
   "outputs": [],
   "source": [
    "def fill_na_with_avg(series):\n",
    "    for idx, value in series[series.isnull()].iteritems():\n",
    "        # get indices of non-NaN neighbors\n",
    "        idx_before = series.loc[:idx].last_valid_index()\n",
    "        idx_after = series.loc[idx:].first_valid_index()\n",
    "\n",
    "        if pd.isnull(idx_before) and pd.isnull(idx_after):  # if no non-NaN neighbors\n",
    "            continue\n",
    "        elif pd.isnull(idx_before):  # if no non-NaN before\n",
    "            series[idx] = series[idx_after]\n",
    "        elif pd.isnull(idx_after):  # if no non-NaN after\n",
    "            series[idx] = series[idx_before]\n",
    "        else:  # if non-NaN neighbors exist before and after\n",
    "            series[idx] = (series[idx_before] + series[idx_after]) / 2\n",
    "    return series"
   ]
  },
  {
   "cell_type": "code",
   "execution_count": 188,
   "id": "472921a6-6b1c-4de6-b2b4-92d2cf6597a2",
   "metadata": {},
   "outputs": [
    {
     "name": "stderr",
     "output_type": "stream",
     "text": [
      "/var/folders/3f/8w_4h_hj2915c7c2mpbt70sr0000gn/T/ipykernel_4604/2859325137.py:10: SettingWithCopyWarning: \n",
      "A value is trying to be set on a copy of a slice from a DataFrame\n",
      "\n",
      "See the caveats in the documentation: https://pandas.pydata.org/pandas-docs/stable/user_guide/indexing.html#returning-a-view-versus-a-copy\n",
      "  series[idx] = series[idx_after]\n",
      "/var/folders/3f/8w_4h_hj2915c7c2mpbt70sr0000gn/T/ipykernel_4604/2859325137.py:14: SettingWithCopyWarning: \n",
      "A value is trying to be set on a copy of a slice from a DataFrame\n",
      "\n",
      "See the caveats in the documentation: https://pandas.pydata.org/pandas-docs/stable/user_guide/indexing.html#returning-a-view-versus-a-copy\n",
      "  series[idx] = (series[idx_before] + series[idx_after]) / 2\n"
     ]
    },
    {
     "name": "stdout",
     "output_type": "stream",
     "text": [
      "0\n"
     ]
    },
    {
     "data": {
      "text/html": [
       "<div>\n",
       "<style scoped>\n",
       "    .dataframe tbody tr th:only-of-type {\n",
       "        vertical-align: middle;\n",
       "    }\n",
       "\n",
       "    .dataframe tbody tr th {\n",
       "        vertical-align: top;\n",
       "    }\n",
       "\n",
       "    .dataframe thead th {\n",
       "        text-align: right;\n",
       "    }\n",
       "</style>\n",
       "<table border=\"1\" class=\"dataframe\">\n",
       "  <thead>\n",
       "    <tr style=\"text-align: right;\">\n",
       "      <th></th>\n",
       "      <th>id</th>\n",
       "      <th>date</th>\n",
       "      <th>store_nbr</th>\n",
       "      <th>family</th>\n",
       "      <th>onpromotion</th>\n",
       "      <th>city</th>\n",
       "      <th>local_holiday</th>\n",
       "      <th>non_local_holiday</th>\n",
       "      <th>sales</th>\n",
       "      <th>oil_price</th>\n",
       "    </tr>\n",
       "  </thead>\n",
       "  <tbody>\n",
       "    <tr>\n",
       "      <th>0</th>\n",
       "      <td>0</td>\n",
       "      <td>2013-01-01</td>\n",
       "      <td>1</td>\n",
       "      <td>AUTOMOTIVE</td>\n",
       "      <td>0</td>\n",
       "      <td>Quito</td>\n",
       "      <td>0.0</td>\n",
       "      <td>1.0</td>\n",
       "      <td>0.0</td>\n",
       "      <td>93.14</td>\n",
       "    </tr>\n",
       "    <tr>\n",
       "      <th>1</th>\n",
       "      <td>1</td>\n",
       "      <td>2013-01-01</td>\n",
       "      <td>1</td>\n",
       "      <td>BABY CARE</td>\n",
       "      <td>0</td>\n",
       "      <td>Quito</td>\n",
       "      <td>0.0</td>\n",
       "      <td>1.0</td>\n",
       "      <td>0.0</td>\n",
       "      <td>93.14</td>\n",
       "    </tr>\n",
       "    <tr>\n",
       "      <th>2</th>\n",
       "      <td>2</td>\n",
       "      <td>2013-01-01</td>\n",
       "      <td>1</td>\n",
       "      <td>BEAUTY</td>\n",
       "      <td>0</td>\n",
       "      <td>Quito</td>\n",
       "      <td>0.0</td>\n",
       "      <td>1.0</td>\n",
       "      <td>0.0</td>\n",
       "      <td>93.14</td>\n",
       "    </tr>\n",
       "    <tr>\n",
       "      <th>3</th>\n",
       "      <td>3</td>\n",
       "      <td>2013-01-01</td>\n",
       "      <td>1</td>\n",
       "      <td>BEVERAGES</td>\n",
       "      <td>0</td>\n",
       "      <td>Quito</td>\n",
       "      <td>0.0</td>\n",
       "      <td>1.0</td>\n",
       "      <td>0.0</td>\n",
       "      <td>93.14</td>\n",
       "    </tr>\n",
       "    <tr>\n",
       "      <th>4</th>\n",
       "      <td>4</td>\n",
       "      <td>2013-01-01</td>\n",
       "      <td>1</td>\n",
       "      <td>BOOKS</td>\n",
       "      <td>0</td>\n",
       "      <td>Quito</td>\n",
       "      <td>0.0</td>\n",
       "      <td>1.0</td>\n",
       "      <td>0.0</td>\n",
       "      <td>93.14</td>\n",
       "    </tr>\n",
       "  </tbody>\n",
       "</table>\n",
       "</div>"
      ],
      "text/plain": [
       "   id       date  store_nbr      family  onpromotion   city  local_holiday  \\\n",
       "0   0 2013-01-01          1  AUTOMOTIVE            0  Quito            0.0   \n",
       "1   1 2013-01-01          1   BABY CARE            0  Quito            0.0   \n",
       "2   2 2013-01-01          1      BEAUTY            0  Quito            0.0   \n",
       "3   3 2013-01-01          1   BEVERAGES            0  Quito            0.0   \n",
       "4   4 2013-01-01          1       BOOKS            0  Quito            0.0   \n",
       "\n",
       "   non_local_holiday  sales  oil_price  \n",
       "0                1.0    0.0      93.14  \n",
       "1                1.0    0.0      93.14  \n",
       "2                1.0    0.0      93.14  \n",
       "3                1.0    0.0      93.14  \n",
       "4                1.0    0.0      93.14  "
      ]
     },
     "execution_count": 188,
     "metadata": {},
     "output_type": "execute_result"
    }
   ],
   "source": [
    "# Next, lets add oil price\n",
    "# First, we need to remove the NaN values in the oil-data by taking the average values from before/after\n",
    "oil_data[\"dcoilwtico\"] = fill_na_with_avg(oil_data[\"dcoilwtico\"])\n",
    "print(sum(oil_data[\"dcoilwtico\"].isnull()))\n",
    "\n",
    "sales_with_holidays = pd.merge(sales_with_holidays, oil_data, left_on=['date'], right_on=['date'], how='left')\n",
    "sales_with_holidays = sales_with_holidays.rename(columns={'dcoilwtico': 'oil_price'})\n",
    "sales_with_holidays.head()"
   ]
  },
  {
   "cell_type": "code",
   "execution_count": 347,
   "id": "d4a273aa-e8b7-412a-b887-f021c486c694",
   "metadata": {},
   "outputs": [],
   "source": [
    "# sales_with_holidays"
   ]
  },
  {
   "cell_type": "code",
   "execution_count": 348,
   "id": "8f52a1d6-5ff1-4504-ba7f-3eebc9335356",
   "metadata": {},
   "outputs": [],
   "source": [
    "# Thing I realized, trying to use these other datasets into the train data wont help since it doesn't work with the test data. I'll just use the \n",
    "# Train data originally and scrap the work above. The only cleaning so far will be on the Produce Sales. "
   ]
  },
  {
   "cell_type": "code",
   "execution_count": 349,
   "id": "eec9b4e7-458b-4052-b3d2-6923942bde02",
   "metadata": {},
   "outputs": [],
   "source": [
    "# I can still use stores_data to add the city, type and cluster to the data"
   ]
  },
  {
   "cell_type": "code",
   "execution_count": 189,
   "id": "66d03771-4d70-4a5e-a503-e092f563d8ca",
   "metadata": {},
   "outputs": [
    {
     "data": {
      "text/html": [
       "<div>\n",
       "<style scoped>\n",
       "    .dataframe tbody tr th:only-of-type {\n",
       "        vertical-align: middle;\n",
       "    }\n",
       "\n",
       "    .dataframe tbody tr th {\n",
       "        vertical-align: top;\n",
       "    }\n",
       "\n",
       "    .dataframe thead th {\n",
       "        text-align: right;\n",
       "    }\n",
       "</style>\n",
       "<table border=\"1\" class=\"dataframe\">\n",
       "  <thead>\n",
       "    <tr style=\"text-align: right;\">\n",
       "      <th></th>\n",
       "      <th>date</th>\n",
       "      <th>store_nbr</th>\n",
       "      <th>family</th>\n",
       "      <th>onpromotion</th>\n",
       "      <th>sales</th>\n",
       "    </tr>\n",
       "  </thead>\n",
       "  <tbody>\n",
       "    <tr>\n",
       "      <th>0</th>\n",
       "      <td>2013-01-01</td>\n",
       "      <td>1</td>\n",
       "      <td>AUTOMOTIVE</td>\n",
       "      <td>0</td>\n",
       "      <td>0.000</td>\n",
       "    </tr>\n",
       "    <tr>\n",
       "      <th>1</th>\n",
       "      <td>2013-01-01</td>\n",
       "      <td>1</td>\n",
       "      <td>BABY CARE</td>\n",
       "      <td>0</td>\n",
       "      <td>0.000</td>\n",
       "    </tr>\n",
       "    <tr>\n",
       "      <th>2</th>\n",
       "      <td>2013-01-01</td>\n",
       "      <td>1</td>\n",
       "      <td>BEAUTY</td>\n",
       "      <td>0</td>\n",
       "      <td>0.000</td>\n",
       "    </tr>\n",
       "    <tr>\n",
       "      <th>3</th>\n",
       "      <td>2013-01-01</td>\n",
       "      <td>1</td>\n",
       "      <td>BEVERAGES</td>\n",
       "      <td>0</td>\n",
       "      <td>0.000</td>\n",
       "    </tr>\n",
       "    <tr>\n",
       "      <th>4</th>\n",
       "      <td>2013-01-01</td>\n",
       "      <td>1</td>\n",
       "      <td>BOOKS</td>\n",
       "      <td>0</td>\n",
       "      <td>0.000</td>\n",
       "    </tr>\n",
       "    <tr>\n",
       "      <th>...</th>\n",
       "      <td>...</td>\n",
       "      <td>...</td>\n",
       "      <td>...</td>\n",
       "      <td>...</td>\n",
       "      <td>...</td>\n",
       "    </tr>\n",
       "    <tr>\n",
       "      <th>3011725</th>\n",
       "      <td>2017-08-15</td>\n",
       "      <td>9</td>\n",
       "      <td>POULTRY</td>\n",
       "      <td>0</td>\n",
       "      <td>438.133</td>\n",
       "    </tr>\n",
       "    <tr>\n",
       "      <th>3011726</th>\n",
       "      <td>2017-08-15</td>\n",
       "      <td>9</td>\n",
       "      <td>PREPARED FOODS</td>\n",
       "      <td>1</td>\n",
       "      <td>154.553</td>\n",
       "    </tr>\n",
       "    <tr>\n",
       "      <th>3011727</th>\n",
       "      <td>2017-08-15</td>\n",
       "      <td>9</td>\n",
       "      <td>PRODUCE</td>\n",
       "      <td>148</td>\n",
       "      <td>2419.729</td>\n",
       "    </tr>\n",
       "    <tr>\n",
       "      <th>3011728</th>\n",
       "      <td>2017-08-15</td>\n",
       "      <td>9</td>\n",
       "      <td>SCHOOL AND OFFICE SUPPLIES</td>\n",
       "      <td>8</td>\n",
       "      <td>121.000</td>\n",
       "    </tr>\n",
       "    <tr>\n",
       "      <th>3011729</th>\n",
       "      <td>2017-08-15</td>\n",
       "      <td>9</td>\n",
       "      <td>SEAFOOD</td>\n",
       "      <td>0</td>\n",
       "      <td>16.000</td>\n",
       "    </tr>\n",
       "  </tbody>\n",
       "</table>\n",
       "<p>3011730 rows × 5 columns</p>\n",
       "</div>"
      ],
      "text/plain": [
       "              date  store_nbr                      family  onpromotion  \\\n",
       "0       2013-01-01          1                  AUTOMOTIVE            0   \n",
       "1       2013-01-01          1                   BABY CARE            0   \n",
       "2       2013-01-01          1                      BEAUTY            0   \n",
       "3       2013-01-01          1                   BEVERAGES            0   \n",
       "4       2013-01-01          1                       BOOKS            0   \n",
       "...            ...        ...                         ...          ...   \n",
       "3011725 2017-08-15          9                     POULTRY            0   \n",
       "3011726 2017-08-15          9              PREPARED FOODS            1   \n",
       "3011727 2017-08-15          9                     PRODUCE          148   \n",
       "3011728 2017-08-15          9  SCHOOL AND OFFICE SUPPLIES            8   \n",
       "3011729 2017-08-15          9                     SEAFOOD            0   \n",
       "\n",
       "            sales  \n",
       "0           0.000  \n",
       "1           0.000  \n",
       "2           0.000  \n",
       "3           0.000  \n",
       "4           0.000  \n",
       "...           ...  \n",
       "3011725   438.133  \n",
       "3011726   154.553  \n",
       "3011727  2419.729  \n",
       "3011728   121.000  \n",
       "3011729    16.000  \n",
       "\n",
       "[3011730 rows x 5 columns]"
      ]
     },
     "execution_count": 189,
     "metadata": {},
     "output_type": "execute_result"
    }
   ],
   "source": [
    "data = data.drop([\"id\", \"local_holiday\", \"non_local_holiday\", \"city\"], axis = 1)\n",
    "data"
   ]
  },
  {
   "cell_type": "code",
   "execution_count": 190,
   "id": "23419e8f-43ce-4123-ab94-565106371d63",
   "metadata": {},
   "outputs": [],
   "source": [
    "# Cleaning function\n",
    "def clean_data(data):\n",
    "    temp = pd.merge(data, stores_data, left_on=['store_nbr'], right_on=['store_nbr'], how='left')\n",
    "    temp['year'] = temp['date'].dt.year\n",
    "    temp['month'] = temp['date'].dt.month\n",
    "    temp['day'] = temp['date'].dt.day\n",
    "    temp['dayofweek'] = temp['date'].dt.dayofweek\n",
    "    temp['date'] = temp['date'].astype(int) / 10**9\n",
    "    temp = pd.get_dummies(temp, columns=['store_nbr', 'family', 'city', 'state', 'type', 'cluster'])\n",
    "    return temp"
   ]
  },
  {
   "cell_type": "code",
   "execution_count": 191,
   "id": "c5186ea9-da41-4bd1-bc39-34b9f1428e71",
   "metadata": {},
   "outputs": [
    {
     "data": {
      "text/html": [
       "<div>\n",
       "<style scoped>\n",
       "    .dataframe tbody tr th:only-of-type {\n",
       "        vertical-align: middle;\n",
       "    }\n",
       "\n",
       "    .dataframe tbody tr th {\n",
       "        vertical-align: top;\n",
       "    }\n",
       "\n",
       "    .dataframe thead th {\n",
       "        text-align: right;\n",
       "    }\n",
       "</style>\n",
       "<table border=\"1\" class=\"dataframe\">\n",
       "  <thead>\n",
       "    <tr style=\"text-align: right;\">\n",
       "      <th></th>\n",
       "      <th>date</th>\n",
       "      <th>onpromotion</th>\n",
       "      <th>sales</th>\n",
       "      <th>year</th>\n",
       "      <th>month</th>\n",
       "      <th>day</th>\n",
       "      <th>dayofweek</th>\n",
       "      <th>store_nbr_1</th>\n",
       "      <th>store_nbr_2</th>\n",
       "      <th>store_nbr_3</th>\n",
       "      <th>...</th>\n",
       "      <th>cluster_8</th>\n",
       "      <th>cluster_9</th>\n",
       "      <th>cluster_10</th>\n",
       "      <th>cluster_11</th>\n",
       "      <th>cluster_12</th>\n",
       "      <th>cluster_13</th>\n",
       "      <th>cluster_14</th>\n",
       "      <th>cluster_15</th>\n",
       "      <th>cluster_16</th>\n",
       "      <th>cluster_17</th>\n",
       "    </tr>\n",
       "  </thead>\n",
       "  <tbody>\n",
       "    <tr>\n",
       "      <th>0</th>\n",
       "      <td>1.356998e+09</td>\n",
       "      <td>0</td>\n",
       "      <td>0.0</td>\n",
       "      <td>2013</td>\n",
       "      <td>1</td>\n",
       "      <td>1</td>\n",
       "      <td>1</td>\n",
       "      <td>1</td>\n",
       "      <td>0</td>\n",
       "      <td>0</td>\n",
       "      <td>...</td>\n",
       "      <td>0</td>\n",
       "      <td>0</td>\n",
       "      <td>0</td>\n",
       "      <td>0</td>\n",
       "      <td>0</td>\n",
       "      <td>1</td>\n",
       "      <td>0</td>\n",
       "      <td>0</td>\n",
       "      <td>0</td>\n",
       "      <td>0</td>\n",
       "    </tr>\n",
       "    <tr>\n",
       "      <th>1</th>\n",
       "      <td>1.356998e+09</td>\n",
       "      <td>0</td>\n",
       "      <td>0.0</td>\n",
       "      <td>2013</td>\n",
       "      <td>1</td>\n",
       "      <td>1</td>\n",
       "      <td>1</td>\n",
       "      <td>1</td>\n",
       "      <td>0</td>\n",
       "      <td>0</td>\n",
       "      <td>...</td>\n",
       "      <td>0</td>\n",
       "      <td>0</td>\n",
       "      <td>0</td>\n",
       "      <td>0</td>\n",
       "      <td>0</td>\n",
       "      <td>1</td>\n",
       "      <td>0</td>\n",
       "      <td>0</td>\n",
       "      <td>0</td>\n",
       "      <td>0</td>\n",
       "    </tr>\n",
       "    <tr>\n",
       "      <th>2</th>\n",
       "      <td>1.356998e+09</td>\n",
       "      <td>0</td>\n",
       "      <td>0.0</td>\n",
       "      <td>2013</td>\n",
       "      <td>1</td>\n",
       "      <td>1</td>\n",
       "      <td>1</td>\n",
       "      <td>1</td>\n",
       "      <td>0</td>\n",
       "      <td>0</td>\n",
       "      <td>...</td>\n",
       "      <td>0</td>\n",
       "      <td>0</td>\n",
       "      <td>0</td>\n",
       "      <td>0</td>\n",
       "      <td>0</td>\n",
       "      <td>1</td>\n",
       "      <td>0</td>\n",
       "      <td>0</td>\n",
       "      <td>0</td>\n",
       "      <td>0</td>\n",
       "    </tr>\n",
       "    <tr>\n",
       "      <th>3</th>\n",
       "      <td>1.356998e+09</td>\n",
       "      <td>0</td>\n",
       "      <td>0.0</td>\n",
       "      <td>2013</td>\n",
       "      <td>1</td>\n",
       "      <td>1</td>\n",
       "      <td>1</td>\n",
       "      <td>1</td>\n",
       "      <td>0</td>\n",
       "      <td>0</td>\n",
       "      <td>...</td>\n",
       "      <td>0</td>\n",
       "      <td>0</td>\n",
       "      <td>0</td>\n",
       "      <td>0</td>\n",
       "      <td>0</td>\n",
       "      <td>1</td>\n",
       "      <td>0</td>\n",
       "      <td>0</td>\n",
       "      <td>0</td>\n",
       "      <td>0</td>\n",
       "    </tr>\n",
       "    <tr>\n",
       "      <th>4</th>\n",
       "      <td>1.356998e+09</td>\n",
       "      <td>0</td>\n",
       "      <td>0.0</td>\n",
       "      <td>2013</td>\n",
       "      <td>1</td>\n",
       "      <td>1</td>\n",
       "      <td>1</td>\n",
       "      <td>1</td>\n",
       "      <td>0</td>\n",
       "      <td>0</td>\n",
       "      <td>...</td>\n",
       "      <td>0</td>\n",
       "      <td>0</td>\n",
       "      <td>0</td>\n",
       "      <td>0</td>\n",
       "      <td>0</td>\n",
       "      <td>1</td>\n",
       "      <td>0</td>\n",
       "      <td>0</td>\n",
       "      <td>0</td>\n",
       "      <td>0</td>\n",
       "    </tr>\n",
       "  </tbody>\n",
       "</table>\n",
       "<p>5 rows × 154 columns</p>\n",
       "</div>"
      ],
      "text/plain": [
       "           date  onpromotion  sales  year  month  day  dayofweek  store_nbr_1  \\\n",
       "0  1.356998e+09            0    0.0  2013      1    1          1            1   \n",
       "1  1.356998e+09            0    0.0  2013      1    1          1            1   \n",
       "2  1.356998e+09            0    0.0  2013      1    1          1            1   \n",
       "3  1.356998e+09            0    0.0  2013      1    1          1            1   \n",
       "4  1.356998e+09            0    0.0  2013      1    1          1            1   \n",
       "\n",
       "   store_nbr_2  store_nbr_3  ...  cluster_8  cluster_9  cluster_10  \\\n",
       "0            0            0  ...          0          0           0   \n",
       "1            0            0  ...          0          0           0   \n",
       "2            0            0  ...          0          0           0   \n",
       "3            0            0  ...          0          0           0   \n",
       "4            0            0  ...          0          0           0   \n",
       "\n",
       "   cluster_11  cluster_12  cluster_13  cluster_14  cluster_15  cluster_16  \\\n",
       "0           0           0           1           0           0           0   \n",
       "1           0           0           1           0           0           0   \n",
       "2           0           0           1           0           0           0   \n",
       "3           0           0           1           0           0           0   \n",
       "4           0           0           1           0           0           0   \n",
       "\n",
       "   cluster_17  \n",
       "0           0  \n",
       "1           0  \n",
       "2           0  \n",
       "3           0  \n",
       "4           0  \n",
       "\n",
       "[5 rows x 154 columns]"
      ]
     },
     "execution_count": 191,
     "metadata": {},
     "output_type": "execute_result"
    }
   ],
   "source": [
    "train_data = clean_data(data)\n",
    "train_data.head()"
   ]
  },
  {
   "cell_type": "code",
   "execution_count": 247,
   "id": "b2964f18-7415-47d8-99c9-0371aa22aefe",
   "metadata": {},
   "outputs": [
    {
     "data": {
      "text/plain": [
       "0.5892504542876198"
      ]
     },
     "execution_count": 247,
     "metadata": {},
     "output_type": "execute_result"
    }
   ],
   "source": [
    "# Can ignore, just for fun\n",
    "# Start off with simple linear regression\n",
    "#from sklearn.linear_model import LinearRegression\n",
    "#reg = LinearRegression().fit(X, y)\n"
   ]
  },
  {
   "cell_type": "code",
   "execution_count": 201,
   "id": "b15f4709-0fe8-4c73-a8a5-b683da5923fd",
   "metadata": {},
   "outputs": [],
   "source": [
    "# ARIMAX code here\n",
    "\n",
    "df = train_data[0:100]\n",
    "\n",
    "# Selecting endogenous and exogenous variables\n",
    "y = df[\"sales\"]\n",
    "X = df.drop([\"sales\"], axis = 1)\n",
    "\n",
    "\n",
    "# Splitting into train and test (example: 80% for train, 20% for test)\n",
    "train_size = int(len(df) * 0.8)\n",
    "train_endog, test_endog = y[:train_size], y[train_size:]\n",
    "train_exog, test_exog = X[:train_size], X[train_size:]\n",
    "\n",
    "model = SARIMAX(train_endog, order=(1, 1, 1), seasonal_order=(1, 1, 1, 12), exog=train_exog)\n",
    "model_fit = model.fit(disp=False)\n",
    "\n",
    "predictions = model_fit.predict(start=len(train_exog), end=len(train_exog) + len(test_exog)-1, exog=test_exog)\n"
   ]
  },
  {
   "cell_type": "code",
   "execution_count": 219,
   "id": "129d5599-7e2d-40d9-9b0e-40e11318c625",
   "metadata": {},
   "outputs": [
    {
     "data": {
      "text/plain": [
       "40792     4.173944e+05\n",
       "40793     4.173613e+05\n",
       "40794     4.177396e+05\n",
       "40795     4.173448e+05\n",
       "40796     4.173771e+05\n",
       "              ...     \n",
       "602421    6.171017e+06\n",
       "602422    6.170884e+06\n",
       "602423    6.170761e+06\n",
       "602424    6.171259e+06\n",
       "602425    6.170462e+06\n",
       "Name: predicted_mean, Length: 561634, dtype: float64"
      ]
     },
     "execution_count": 219,
     "metadata": {},
     "output_type": "execute_result"
    }
   ],
   "source": [
    "start = len(train)\n",
    "end = start + len(X_test) + len(test_exog) - 1 - (643078 - 602346)\n",
    "model_fit.predict(start, end, exog=X_test)"
   ]
  },
  {
   "cell_type": "code",
   "execution_count": null,
   "id": "13a4c0ca-d2f2-492f-aa9b-3ece6722bc45",
   "metadata": {},
   "outputs": [],
   "source": [
    "\n",
    "y = train_data[\"sales\"]\n",
    "X = train_data.drop([\"sales\"], axis = 1)\n",
    "X_train, X_test, y_train, y_test = train_test_split(X, y, test_size=0.2, random_state=42)"
   ]
  },
  {
   "cell_type": "code",
   "execution_count": 228,
   "id": "5cc013e5-ded8-48ff-8734-17c0c0f3f9d7",
   "metadata": {},
   "outputs": [
    {
     "data": {
      "text/plain": [
       "XGBRegressor(base_score=0.5, booster='gbtree', callbacks=None,\n",
       "             colsample_bylevel=1, colsample_bynode=1, colsample_bytree=1,\n",
       "             early_stopping_rounds=None, enable_categorical=False,\n",
       "             eval_metric=None, gamma=0, gpu_id=-1, grow_policy='depthwise',\n",
       "             importance_type=None, interaction_constraints='',\n",
       "             learning_rate=0.300000012, max_bin=256, max_cat_to_onehot=4,\n",
       "             max_delta_step=0, max_depth=6, max_leaves=0, min_child_weight=1,\n",
       "             missing=nan, monotone_constraints='()', n_estimators=100, n_jobs=0,\n",
       "             num_parallel_tree=1, predictor='auto', random_state=0, reg_alpha=0,\n",
       "             reg_lambda=1, ...)"
      ]
     },
     "execution_count": 228,
     "metadata": {},
     "output_type": "execute_result"
    }
   ],
   "source": [
    "model = xgb.XGBRegressor()\n",
    "model.fit(X_train,y_train)"
   ]
  },
  {
   "cell_type": "code",
   "execution_count": 263,
   "id": "1fd31152-853c-4437-a640-a06b0e912a3b",
   "metadata": {},
   "outputs": [
    {
     "name": "stdout",
     "output_type": "stream",
     "text": [
      "RMSE: 262.566972\n"
     ]
    }
   ],
   "source": [
    "preds = model.predict(X_test)\n",
    "rmse = np.sqrt(mean_squared_error(y_test, preds))\n",
    "print(\"RMSE: %f\" % (rmse))"
   ]
  },
  {
   "cell_type": "code",
   "execution_count": 262,
   "id": "fb03de19-56c3-4e54-bee1-d43fa36370ba",
   "metadata": {},
   "outputs": [
    {
     "name": "stdout",
     "output_type": "stream",
     "text": [
      "0.9989728848404914\n",
      "0.9467731620600427\n"
     ]
    }
   ],
   "source": [
    "print(model.score(X_train, y_train))\n",
    "print(model.score(X_test, y_test))"
   ]
  },
  {
   "cell_type": "code",
   "execution_count": 231,
   "id": "51733feb-749c-4eb3-a850-698675cfd043",
   "metadata": {},
   "outputs": [
    {
     "data": {
      "text/html": [
       "<div>\n",
       "<style scoped>\n",
       "    .dataframe tbody tr th:only-of-type {\n",
       "        vertical-align: middle;\n",
       "    }\n",
       "\n",
       "    .dataframe tbody tr th {\n",
       "        vertical-align: top;\n",
       "    }\n",
       "\n",
       "    .dataframe thead th {\n",
       "        text-align: right;\n",
       "    }\n",
       "</style>\n",
       "<table border=\"1\" class=\"dataframe\">\n",
       "  <thead>\n",
       "    <tr style=\"text-align: right;\">\n",
       "      <th></th>\n",
       "      <th>date</th>\n",
       "      <th>onpromotion</th>\n",
       "      <th>year</th>\n",
       "      <th>month</th>\n",
       "      <th>day</th>\n",
       "      <th>dayofweek</th>\n",
       "      <th>store_nbr_1</th>\n",
       "      <th>store_nbr_2</th>\n",
       "      <th>store_nbr_3</th>\n",
       "      <th>store_nbr_4</th>\n",
       "      <th>...</th>\n",
       "      <th>cluster_8</th>\n",
       "      <th>cluster_9</th>\n",
       "      <th>cluster_10</th>\n",
       "      <th>cluster_11</th>\n",
       "      <th>cluster_12</th>\n",
       "      <th>cluster_13</th>\n",
       "      <th>cluster_14</th>\n",
       "      <th>cluster_15</th>\n",
       "      <th>cluster_16</th>\n",
       "      <th>cluster_17</th>\n",
       "    </tr>\n",
       "  </thead>\n",
       "  <tbody>\n",
       "    <tr>\n",
       "      <th>0</th>\n",
       "      <td>1.502842e+09</td>\n",
       "      <td>0</td>\n",
       "      <td>2017</td>\n",
       "      <td>8</td>\n",
       "      <td>16</td>\n",
       "      <td>2</td>\n",
       "      <td>1</td>\n",
       "      <td>0</td>\n",
       "      <td>0</td>\n",
       "      <td>0</td>\n",
       "      <td>...</td>\n",
       "      <td>0</td>\n",
       "      <td>0</td>\n",
       "      <td>0</td>\n",
       "      <td>0</td>\n",
       "      <td>0</td>\n",
       "      <td>1</td>\n",
       "      <td>0</td>\n",
       "      <td>0</td>\n",
       "      <td>0</td>\n",
       "      <td>0</td>\n",
       "    </tr>\n",
       "    <tr>\n",
       "      <th>1</th>\n",
       "      <td>1.502842e+09</td>\n",
       "      <td>0</td>\n",
       "      <td>2017</td>\n",
       "      <td>8</td>\n",
       "      <td>16</td>\n",
       "      <td>2</td>\n",
       "      <td>1</td>\n",
       "      <td>0</td>\n",
       "      <td>0</td>\n",
       "      <td>0</td>\n",
       "      <td>...</td>\n",
       "      <td>0</td>\n",
       "      <td>0</td>\n",
       "      <td>0</td>\n",
       "      <td>0</td>\n",
       "      <td>0</td>\n",
       "      <td>1</td>\n",
       "      <td>0</td>\n",
       "      <td>0</td>\n",
       "      <td>0</td>\n",
       "      <td>0</td>\n",
       "    </tr>\n",
       "    <tr>\n",
       "      <th>2</th>\n",
       "      <td>1.502842e+09</td>\n",
       "      <td>2</td>\n",
       "      <td>2017</td>\n",
       "      <td>8</td>\n",
       "      <td>16</td>\n",
       "      <td>2</td>\n",
       "      <td>1</td>\n",
       "      <td>0</td>\n",
       "      <td>0</td>\n",
       "      <td>0</td>\n",
       "      <td>...</td>\n",
       "      <td>0</td>\n",
       "      <td>0</td>\n",
       "      <td>0</td>\n",
       "      <td>0</td>\n",
       "      <td>0</td>\n",
       "      <td>1</td>\n",
       "      <td>0</td>\n",
       "      <td>0</td>\n",
       "      <td>0</td>\n",
       "      <td>0</td>\n",
       "    </tr>\n",
       "    <tr>\n",
       "      <th>3</th>\n",
       "      <td>1.502842e+09</td>\n",
       "      <td>20</td>\n",
       "      <td>2017</td>\n",
       "      <td>8</td>\n",
       "      <td>16</td>\n",
       "      <td>2</td>\n",
       "      <td>1</td>\n",
       "      <td>0</td>\n",
       "      <td>0</td>\n",
       "      <td>0</td>\n",
       "      <td>...</td>\n",
       "      <td>0</td>\n",
       "      <td>0</td>\n",
       "      <td>0</td>\n",
       "      <td>0</td>\n",
       "      <td>0</td>\n",
       "      <td>1</td>\n",
       "      <td>0</td>\n",
       "      <td>0</td>\n",
       "      <td>0</td>\n",
       "      <td>0</td>\n",
       "    </tr>\n",
       "    <tr>\n",
       "      <th>4</th>\n",
       "      <td>1.502842e+09</td>\n",
       "      <td>0</td>\n",
       "      <td>2017</td>\n",
       "      <td>8</td>\n",
       "      <td>16</td>\n",
       "      <td>2</td>\n",
       "      <td>1</td>\n",
       "      <td>0</td>\n",
       "      <td>0</td>\n",
       "      <td>0</td>\n",
       "      <td>...</td>\n",
       "      <td>0</td>\n",
       "      <td>0</td>\n",
       "      <td>0</td>\n",
       "      <td>0</td>\n",
       "      <td>0</td>\n",
       "      <td>1</td>\n",
       "      <td>0</td>\n",
       "      <td>0</td>\n",
       "      <td>0</td>\n",
       "      <td>0</td>\n",
       "    </tr>\n",
       "  </tbody>\n",
       "</table>\n",
       "<p>5 rows × 153 columns</p>\n",
       "</div>"
      ],
      "text/plain": [
       "           date  onpromotion  year  month  day  dayofweek  store_nbr_1  \\\n",
       "0  1.502842e+09            0  2017      8   16          2            1   \n",
       "1  1.502842e+09            0  2017      8   16          2            1   \n",
       "2  1.502842e+09            2  2017      8   16          2            1   \n",
       "3  1.502842e+09           20  2017      8   16          2            1   \n",
       "4  1.502842e+09            0  2017      8   16          2            1   \n",
       "\n",
       "   store_nbr_2  store_nbr_3  store_nbr_4  ...  cluster_8  cluster_9  \\\n",
       "0            0            0            0  ...          0          0   \n",
       "1            0            0            0  ...          0          0   \n",
       "2            0            0            0  ...          0          0   \n",
       "3            0            0            0  ...          0          0   \n",
       "4            0            0            0  ...          0          0   \n",
       "\n",
       "   cluster_10  cluster_11  cluster_12  cluster_13  cluster_14  cluster_15  \\\n",
       "0           0           0           0           1           0           0   \n",
       "1           0           0           0           1           0           0   \n",
       "2           0           0           0           1           0           0   \n",
       "3           0           0           0           1           0           0   \n",
       "4           0           0           0           1           0           0   \n",
       "\n",
       "   cluster_16  cluster_17  \n",
       "0           0           0  \n",
       "1           0           0  \n",
       "2           0           0  \n",
       "3           0           0  \n",
       "4           0           0  \n",
       "\n",
       "[5 rows x 153 columns]"
      ]
     },
     "execution_count": 231,
     "metadata": {},
     "output_type": "execute_result"
    }
   ],
   "source": [
    "# cleaning test data\n",
    "test_data = pd.read_csv(\"kaggle_data/test.csv\")\n",
    "test_data['date'] = pd.to_datetime(test_data['date'])\n",
    "ids = test_data[\"id\"]\n",
    "test_data = test_data.drop([\"id\"], axis = 1)\n",
    "test_data = clean_data(test_data)\n",
    "test_data.head()"
   ]
  },
  {
   "cell_type": "code",
   "execution_count": 259,
   "id": "49c0db94-3ed4-43f7-90d1-95f02a757969",
   "metadata": {},
   "outputs": [],
   "source": [
    "X_pred = test_data\n",
    "y_pred = model.predict(X_pred)"
   ]
  },
  {
   "cell_type": "code",
   "execution_count": 265,
   "id": "1a3fa7a1-c0de-4184-9ef6-aa115b90e73d",
   "metadata": {},
   "outputs": [
    {
     "data": {
      "text/plain": [
       "array([5.05133152e+00, 4.53193426e-01, 5.93075895e+00, 2.78621167e+03,\n",
       "       5.79575479e-01, 2.54842499e+02, 1.30977373e+01, 1.00554034e+03,\n",
       "       7.96895386e+02, 1.42761551e+02], dtype=float32)"
      ]
     },
     "execution_count": 265,
     "metadata": {},
     "output_type": "execute_result"
    }
   ],
   "source": [
    "y_pred[0:10]"
   ]
  },
  {
   "cell_type": "code",
   "execution_count": 261,
   "id": "54979e6a-fb6c-4d35-8bb2-468d13776c09",
   "metadata": {},
   "outputs": [],
   "source": [
    "# Saving Kaggle Submission\n",
    "y_pred_series = pd.Series(y_pred)\n",
    "result = pd.concat([ids, y_pred_series], axis=1)\n",
    "result.columns = [\"id\", \"sales\"]\n",
    "result.to_csv('submission.csv', index=False)"
   ]
  },
  {
   "cell_type": "code",
   "execution_count": 245,
   "id": "99207880-6914-4377-9a51-a94270f9e269",
   "metadata": {},
   "outputs": [
    {
     "data": {
      "text/html": [
       "<div>\n",
       "<style scoped>\n",
       "    .dataframe tbody tr th:only-of-type {\n",
       "        vertical-align: middle;\n",
       "    }\n",
       "\n",
       "    .dataframe tbody tr th {\n",
       "        vertical-align: top;\n",
       "    }\n",
       "\n",
       "    .dataframe thead th {\n",
       "        text-align: right;\n",
       "    }\n",
       "</style>\n",
       "<table border=\"1\" class=\"dataframe\">\n",
       "  <thead>\n",
       "    <tr style=\"text-align: right;\">\n",
       "      <th></th>\n",
       "      <th>id</th>\n",
       "      <th>sales</th>\n",
       "    </tr>\n",
       "  </thead>\n",
       "  <tbody>\n",
       "    <tr>\n",
       "      <th>0</th>\n",
       "      <td>3000888</td>\n",
       "      <td>-17.826202</td>\n",
       "    </tr>\n",
       "    <tr>\n",
       "      <th>1</th>\n",
       "      <td>3000889</td>\n",
       "      <td>-21.600533</td>\n",
       "    </tr>\n",
       "    <tr>\n",
       "      <th>2</th>\n",
       "      <td>3000890</td>\n",
       "      <td>-43.882450</td>\n",
       "    </tr>\n",
       "    <tr>\n",
       "      <th>3</th>\n",
       "      <td>3000891</td>\n",
       "      <td>2500.635986</td>\n",
       "    </tr>\n",
       "    <tr>\n",
       "      <th>4</th>\n",
       "      <td>3000892</td>\n",
       "      <td>-28.627560</td>\n",
       "    </tr>\n",
       "  </tbody>\n",
       "</table>\n",
       "</div>"
      ],
      "text/plain": [
       "        id        sales\n",
       "0  3000888   -17.826202\n",
       "1  3000889   -21.600533\n",
       "2  3000890   -43.882450\n",
       "3  3000891  2500.635986\n",
       "4  3000892   -28.627560"
      ]
     },
     "execution_count": 245,
     "metadata": {},
     "output_type": "execute_result"
    }
   ],
   "source": [
    "result.head()"
   ]
  },
  {
   "cell_type": "code",
   "execution_count": 251,
   "id": "c612c867-084a-4fc3-bdb9-901f14e0c85a",
   "metadata": {},
   "outputs": [
    {
     "name": "stderr",
     "output_type": "stream",
     "text": [
      "\u001b[34m\u001b[1mwandb\u001b[0m: \u001b[32m\u001b[41mERROR\u001b[0m Error while calling W&B API: An internal error occurred. Please contact support. (<Response [500]>)\n"
     ]
    },
    {
     "name": "stdout",
     "output_type": "stream",
     "text": [
      "Create sweep with ID: avviue94\n",
      "Sweep URL: https://wandb.ai/chrisapton/XGBoost_sweeps/sweeps/avviue94\n"
     ]
    }
   ],
   "source": [
    "# configuration for the sweep\n",
    "sweep_config = {\n",
    "    'method': 'random', #grid, random\n",
    "    'metric': {\n",
    "      'name': 'rmse',\n",
    "      'goal': 'minimize'   \n",
    "    },\n",
    "    'parameters': {\n",
    "        'max_depth': {\n",
    "            'values': [3, 6, 9, 12]\n",
    "        },\n",
    "        'eta': {\n",
    "            'values': [0.001, 0.01, 0.1]\n",
    "        },\n",
    "        'subsample': {\n",
    "            'values': [0.5, 0.7, 1]\n",
    "        },\n",
    "        'colsample_bytree': {\n",
    "            'values': [0.5, 0.7, 1]\n",
    "        },\n",
    "    }\n",
    "}\n",
    "\n",
    "# initialize a new sweep\n",
    "sweep_id = wandb.sweep(sweep_config, project=\"XGBoost_sweeps\")"
   ]
  },
  {
   "cell_type": "code",
   "execution_count": null,
   "id": "8ecbcc0e-54bb-438f-ade1-6fb5dbd8476d",
   "metadata": {},
   "outputs": [],
   "source": [
    "from xgboost.callback import TrainingCallback\n",
    "\n",
    "class WandbCallback(TrainingCallback):\n",
    "    def after_iteration(self, model, epoch, evals_log):\n",
    "        for data, metric in evals_log.items():\n",
    "            for metric_name, log in metric.items():\n",
    "                wandb.log({f\"{data}-{metric_name}\": log[-1]})\n",
    "        return False\n",
    "\n",
    "def train():\n",
    "    with wandb.init() as run:\n",
    "        params = {\n",
    "            'max_depth': run.config.max_depth,\n",
    "            'eta': run.config.eta,\n",
    "            'subsample': run.config.subsample,\n",
    "            'colsample_bytree': run.config.colsample_bytree,\n",
    "            'objective': 'reg:squarederror',\n",
    "            'eval_metric': 'rmse'\n",
    "        }\n",
    "        \n",
    "        dtrain = xgb.DMatrix(X_train, label=y_train)\n",
    "        dtest = xgb.DMatrix(X_test, label=y_test)\n",
    "\n",
    "        bst = xgb.train(params, dtrain, evals=[(dtest, \"test\")], callbacks=[WandbCallback()])\n",
    "\n",
    "wandb.agent(sweep_id, train)"
   ]
  },
  {
   "cell_type": "code",
   "execution_count": 257,
   "id": "a791beff-7d44-4961-8ec0-5f190b98c134",
   "metadata": {},
   "outputs": [
    {
     "data": {
      "text/plain": [
       "XGBRegressor(base_score=0.5, booster='gbtree', callbacks=None,\n",
       "             colsample_bylevel=1, colsample_bynode=1, colsample_bytree=1,\n",
       "             early_stopping_rounds=None, enable_categorical=False, eta=0.05,\n",
       "             eval_metric=None, gamma=0, gpu_id=-1, grow_policy='depthwise',\n",
       "             importance_type=None, interaction_constraints='',\n",
       "             learning_rate=0.0500000007, max_bin=256, max_cat_to_onehot=4,\n",
       "             max_delta_step=0, max_depth=30, max_leaves=0, min_child_weight=1,\n",
       "             missing=nan, monotone_constraints='()', n_estimators=100, n_jobs=0,\n",
       "             num_parallel_tree=1, predictor='auto', random_state=0, reg_alpha=0, ...)"
      ]
     },
     "execution_count": 257,
     "metadata": {},
     "output_type": "execute_result"
    }
   ],
   "source": [
    "# optimal hyperparameters\n",
    "optimal_max_depth = 30\n",
    "optimal_eta = 0.05\n",
    "optimal_subsample = 1\n",
    "optimal_colsample_bytree = 1\n",
    "\n",
    "model = xgb.XGBRegressor(eta = optimal_eta, max_depth = optimal_max_depth, subsample = optimal_subsample, colsample_bytree = optimal_colsample_bytree)\n",
    "model.fit(X_train,y_train)\n"
   ]
  },
  {
   "cell_type": "code",
   "execution_count": 258,
   "id": "30b57a94-355e-4cd0-b922-fb55040f6283",
   "metadata": {},
   "outputs": [],
   "source": [
    "# Save the model\n",
    "with open('best_model.pkl', 'wb') as f:\n",
    "    pickle.dump(model, f)"
   ]
  },
  {
   "cell_type": "code",
   "execution_count": null,
   "id": "507501a8-72b1-4778-9460-f35395b41212",
   "metadata": {},
   "outputs": [],
   "source": [
    "# Load the model\n",
    "with open('best_model.pkl', 'rb') as f:\n",
    "    best_model = pickle.load(f)"
   ]
  }
 ],
 "metadata": {
  "kernelspec": {
   "display_name": "Python 3 (ipykernel)",
   "language": "python",
   "name": "python3"
  },
  "language_info": {
   "codemirror_mode": {
    "name": "ipython",
    "version": 3
   },
   "file_extension": ".py",
   "mimetype": "text/x-python",
   "name": "python",
   "nbconvert_exporter": "python",
   "pygments_lexer": "ipython3",
   "version": "3.8.13"
  }
 },
 "nbformat": 4,
 "nbformat_minor": 5
}
